{
  "nbformat": 4,
  "nbformat_minor": 0,
  "metadata": {
    "colab": {
      "name": "Data Collection.ipynb",
      "provenance": [],
      "collapsed_sections": []
    },
    "kernelspec": {
      "name": "python3",
      "display_name": "Python 3"
    },
    "language_info": {
      "name": "python"
    }
  },
  "cells": [
    {
      "cell_type": "markdown",
      "metadata": {
        "id": "iqM8CDmNDCO4"
      },
      "source": [
        "# Data Collection\n",
        "Permasalahan yang sering ditemui saat ingin mencari data adalah data tersebut berbentuk pdf dimana data tidak jarang memaksa kita untuk input data secara manual. Hal ini tentu membutuhkan banyak waktu dan tenaga. Oleh karena itu, akan dijelaskan bagaimana cara menconvert data dari pdf ke dalam format excel dan documents."
      ]
    },
    {
      "cell_type": "markdown",
      "metadata": {
        "id": "MQgx3Vo-rhHx"
      },
      "source": [
        "## Connect Gdrive kedalam Colab"
      ]
    },
    {
      "cell_type": "code",
      "metadata": {
        "colab": {
          "base_uri": "https://localhost:8080/"
        },
        "id": "23rsabcbK_b1",
        "outputId": "120c21f1-5f17-47e6-b599-79412e74159e"
      },
      "source": [
        "# Mengakses google drive ke dalam google colaboratory\n",
        "from google.colab import drive\n",
        "drive.mount('/content/gdrive', force_remount=True)"
      ],
      "execution_count": null,
      "outputs": [
        {
          "output_type": "stream",
          "text": [
            "Mounted at /content/gdrive\n"
          ],
          "name": "stdout"
        }
      ]
    },
    {
      "cell_type": "markdown",
      "metadata": {
        "id": "99oFVB1RrqJU"
      },
      "source": [
        "## Import Packages/Library\n",
        "\n",
        "Dalam modul ini, akan dijelaskan untuk convert data dengan library yang terdapat dalam python.\n",
        "\n",
        "*   Tabula Documentation: https://tabula-py.readthedocs.io/en/latest/\n",
        "*   pdf2docx converter Documentation: https://dothinking.github.io/pdf2docx/index.html\n",
        "\n",
        "akan tetapi ke-2 library yang akan digunakan bukan merupakan bawaan notebook, oleh karena itu diperlukan install library secara independent. Berikut caranya:\n",
        "\n"
      ]
    },
    {
      "cell_type": "code",
      "metadata": {
        "colab": {
          "base_uri": "https://localhost:8080/"
        },
        "id": "zBswQ46roloD",
        "outputId": "ebebcd99-a491-42cd-8cac-aab844e5a90c"
      },
      "source": [
        "# Install library tabula untuk convert pdf to excel (read tables in pdf into DataFrame)\n",
        "!pip install tabula-py"
      ],
      "execution_count": null,
      "outputs": [
        {
          "output_type": "stream",
          "text": [
            "Collecting tabula-py\n",
            "\u001b[?25l  Downloading https://files.pythonhosted.org/packages/cf/29/d6cb0d77ef46d84d35cffa09cf42c73b373aea664d28604eab6818f8a47c/tabula_py-2.2.0-py3-none-any.whl (11.7MB)\n",
            "\u001b[K     |████████████████████████████████| 11.7MB 2.8MB/s \n",
            "\u001b[?25hRequirement already satisfied: numpy in /usr/local/lib/python3.7/dist-packages (from tabula-py) (1.19.5)\n",
            "Collecting distro\n",
            "  Downloading https://files.pythonhosted.org/packages/25/b7/b3c4270a11414cb22c6352ebc7a83aaa3712043be29daa05018fd5a5c956/distro-1.5.0-py2.py3-none-any.whl\n",
            "Requirement already satisfied: pandas>=0.25.3 in /usr/local/lib/python3.7/dist-packages (from tabula-py) (1.1.5)\n",
            "Requirement already satisfied: pytz>=2017.2 in /usr/local/lib/python3.7/dist-packages (from pandas>=0.25.3->tabula-py) (2018.9)\n",
            "Requirement already satisfied: python-dateutil>=2.7.3 in /usr/local/lib/python3.7/dist-packages (from pandas>=0.25.3->tabula-py) (2.8.1)\n",
            "Requirement already satisfied: six>=1.5 in /usr/local/lib/python3.7/dist-packages (from python-dateutil>=2.7.3->pandas>=0.25.3->tabula-py) (1.15.0)\n",
            "Installing collected packages: distro, tabula-py\n",
            "Successfully installed distro-1.5.0 tabula-py-2.2.0\n"
          ],
          "name": "stdout"
        }
      ]
    },
    {
      "cell_type": "code",
      "metadata": {
        "colab": {
          "base_uri": "https://localhost:8080/"
        },
        "id": "QkWp94Tbooex",
        "outputId": "44828d46-ca7f-4aa1-d457-e74943251482"
      },
      "source": [
        "# Install library pdf2docx untuk convert pdf to document\n",
        "!pip install pdf2docx"
      ],
      "execution_count": null,
      "outputs": [
        {
          "output_type": "stream",
          "text": [
            "Collecting pdf2docx\n",
            "\u001b[?25l  Downloading https://files.pythonhosted.org/packages/43/33/487af588dfcfa3ea5cceee74856d6775ff922b63721e25654c19daa107e8/pdf2docx-0.5.1-py3-none-any.whl (108kB)\n",
            "\u001b[K     |████████████████████████████████| 112kB 4.0MB/s \n",
            "\u001b[?25hCollecting PyMuPDF>=1.18.5\n",
            "\u001b[?25l  Downloading https://files.pythonhosted.org/packages/bf/e8/bfd971ed4515fcdc0f7eec374a515f4608b141c62a0fb6949ad8425fb80b/PyMuPDF-1.18.13-cp37-cp37m-manylinux2010_x86_64.whl (6.4MB)\n",
            "\u001b[K     |████████████████████████████████| 6.4MB 16.9MB/s \n",
            "\u001b[?25hCollecting python-docx>=0.8.10\n",
            "\u001b[?25l  Downloading https://files.pythonhosted.org/packages/8b/a0/52729ce4aa026f31b74cc877be1d11e4ddeaa361dc7aebec148171644b33/python-docx-0.8.11.tar.gz (5.6MB)\n",
            "\u001b[K     |████████████████████████████████| 5.6MB 26.1MB/s \n",
            "\u001b[?25hCollecting fire>=0.3.0\n",
            "\u001b[?25l  Downloading https://files.pythonhosted.org/packages/11/07/a119a1aa04d37bc819940d95ed7e135a7dcca1c098123a3764a6dcace9e7/fire-0.4.0.tar.gz (87kB)\n",
            "\u001b[K     |████████████████████████████████| 92kB 11.0MB/s \n",
            "\u001b[?25hRequirement already satisfied: lxml>=2.3.2 in /usr/local/lib/python3.7/dist-packages (from python-docx>=0.8.10->pdf2docx) (4.2.6)\n",
            "Requirement already satisfied: six in /usr/local/lib/python3.7/dist-packages (from fire>=0.3.0->pdf2docx) (1.15.0)\n",
            "Requirement already satisfied: termcolor in /usr/local/lib/python3.7/dist-packages (from fire>=0.3.0->pdf2docx) (1.1.0)\n",
            "Building wheels for collected packages: python-docx, fire\n",
            "  Building wheel for python-docx (setup.py) ... \u001b[?25l\u001b[?25hdone\n",
            "  Created wheel for python-docx: filename=python_docx-0.8.11-cp37-none-any.whl size=184602 sha256=cbbbebf31431d16a2dd78e88e84fd98717780e5a136068936ebf03d0db618564\n",
            "  Stored in directory: /root/.cache/pip/wheels/a6/90/f1/a7cb70b38633ae04e7fb963b1c70f63fd6fc01c075b8230adc\n",
            "  Building wheel for fire (setup.py) ... \u001b[?25l\u001b[?25hdone\n",
            "  Created wheel for fire: filename=fire-0.4.0-py2.py3-none-any.whl size=115928 sha256=344c32b6d1a2f01fc52dbd6ee057499885ba1af8af9ba14e9c0d4304f2f3d91e\n",
            "  Stored in directory: /root/.cache/pip/wheels/af/19/30/1ea0cad502dcb4e66ed5a690279628c827aea38bbbab75d5ed\n",
            "Successfully built python-docx fire\n",
            "Installing collected packages: PyMuPDF, python-docx, fire, pdf2docx\n",
            "Successfully installed PyMuPDF-1.18.13 fire-0.4.0 pdf2docx-0.5.1 python-docx-0.8.11\n"
          ],
          "name": "stdout"
        }
      ]
    },
    {
      "cell_type": "code",
      "metadata": {
        "id": "dnloJwHPo90U"
      },
      "source": [
        "# Import Package/Library\n",
        "import os\n",
        "import tabula\n",
        "from pdf2docx import Converter"
      ],
      "execution_count": null,
      "outputs": []
    },
    {
      "cell_type": "code",
      "metadata": {
        "id": "dKN9OdrRpVyL"
      },
      "source": [
        "# Inisiasi directory tempat data akan dibaca dan disimpan\n",
        "path = \"gdrive/MyDrive/learn-py/narasiodata/day1-pdaib/\""
      ],
      "execution_count": null,
      "outputs": []
    },
    {
      "cell_type": "code",
      "metadata": {
        "colab": {
          "base_uri": "https://localhost:8080/"
        },
        "id": "JxRPOEw4phcj",
        "outputId": "f9797c10-99b9-41c8-9f71-6aa6378fb1b9"
      },
      "source": [
        "# Cek directory untuk memastikan data tersimpan di dalamnya\n",
        "os.listdir(path)"
      ],
      "execution_count": null,
      "outputs": [
        {
          "output_type": "execute_result",
          "data": {
            "text/plain": [
              "['Provinsi Jawa Timur Dalam Angka 2020-pages-85.pdf',\n",
              " 'data description.txt',\n",
              " 'OnlineRetail.xlsx',\n",
              " 'OnlineRetail.csv']"
            ]
          },
          "metadata": {
            "tags": []
          },
          "execution_count": 8
        }
      ]
    },
    {
      "cell_type": "markdown",
      "metadata": {
        "id": "-NRT2rKbrUvC"
      },
      "source": [
        "## Convert Pdf to .xlsx and .csv format\n",
        "\n",
        "Dalam mengconvert file pdf kedalam excel kita akan menggunakan module Tabula. Ada beberapa argument yang ditambahkan untuk membantu mengatur spesifikasi output yang diharapkan."
      ]
    },
    {
      "cell_type": "code",
      "metadata": {
        "colab": {
          "base_uri": "https://localhost:8080/"
        },
        "id": "gPv_kF5nrY5l",
        "outputId": "71d0ebd4-be62-4a1b-e146-711b1ce1f947"
      },
      "source": [
        "# https://github.com/tabulapdf/tabula-java/issues/255\n",
        "\n",
        "# Read PDF file\n",
        "df = tabula.read_pdf(path + \"Provinsi Jawa Timur Dalam Angka 2020-pages-85.pdf\", pages = 'all' , lattice = True, multiple_tables=True)[0]\n",
        "#pages=all, pages=1, tergantung kebutuhan #halaman yang ingin diconvert"
      ],
      "execution_count": null,
      "outputs": [
        {
          "output_type": "stream",
          "text": [
            "Got stderr: May 26, 2021 11:25:42 PM org.apache.pdfbox.pdmodel.font.FileSystemFontProvider loadDiskCache\n",
            "WARNING: New fonts found, font cache will be re-built\n",
            "May 26, 2021 11:25:42 PM org.apache.pdfbox.pdmodel.font.FileSystemFontProvider <init>\n",
            "WARNING: Building on-disk font cache, this may take a while\n",
            "May 26, 2021 11:25:42 PM org.apache.pdfbox.pdmodel.font.FileSystemFontProvider <init>\n",
            "WARNING: Finished building on-disk font cache, found 17 fonts\n",
            "May 26, 2021 11:25:42 PM org.apache.pdfbox.pdmodel.font.PDType1Font <init>\n",
            "WARNING: Using fallback font LiberationSans for base font Symbol\n",
            "May 26, 2021 11:25:42 PM org.apache.pdfbox.pdmodel.font.PDType1Font <init>\n",
            "WARNING: Using fallback font LiberationSans for base font ZapfDingbats\n",
            "\n"
          ],
          "name": "stderr"
        }
      ]
    },
    {
      "cell_type": "code",
      "metadata": {
        "colab": {
          "base_uri": "https://localhost:8080/",
          "height": 203
        },
        "id": "dG42FIDDxdM3",
        "outputId": "abfd74dd-dc8f-4339-886a-4341e144e3d0"
      },
      "source": [
        "# Menampilkan 5 data teratas dari file\n",
        "df.head()"
      ],
      "execution_count": null,
      "outputs": [
        {
          "output_type": "execute_result",
          "data": {
            "text/html": [
              "<div>\n",
              "<style scoped>\n",
              "    .dataframe tbody tr th:only-of-type {\n",
              "        vertical-align: middle;\n",
              "    }\n",
              "\n",
              "    .dataframe tbody tr th {\n",
              "        vertical-align: top;\n",
              "    }\n",
              "\n",
              "    .dataframe thead th {\n",
              "        text-align: right;\n",
              "    }\n",
              "</style>\n",
              "<table border=\"1\" class=\"dataframe\">\n",
              "  <thead>\n",
              "    <tr style=\"text-align: right;\">\n",
              "      <th></th>\n",
              "      <th>Kabupaten/Kota\\rRegency/Municipality</th>\n",
              "      <th>2018</th>\n",
              "      <th>Unnamed: 0</th>\n",
              "    </tr>\n",
              "  </thead>\n",
              "  <tbody>\n",
              "    <tr>\n",
              "      <th>0</th>\n",
              "      <td>NaN</td>\n",
              "      <td>Pendapatan\\rRevenues</td>\n",
              "      <td>Belanja\\rExpenditures</td>\n",
              "    </tr>\n",
              "    <tr>\n",
              "      <th>1</th>\n",
              "      <td>(1)</td>\n",
              "      <td>(2)</td>\n",
              "      <td>(3)</td>\n",
              "    </tr>\n",
              "    <tr>\n",
              "      <th>2</th>\n",
              "      <td>Kabupaten/Regency</td>\n",
              "      <td>NaN</td>\n",
              "      <td>NaN</td>\n",
              "    </tr>\n",
              "    <tr>\n",
              "      <th>3</th>\n",
              "      <td>Pacitan</td>\n",
              "      <td>1 615 114 387 846,00</td>\n",
              "      <td>1 665 549 144 945,82</td>\n",
              "    </tr>\n",
              "    <tr>\n",
              "      <th>4</th>\n",
              "      <td>Ponorogo</td>\n",
              "      <td>2 280 253 624 958,67</td>\n",
              "      <td>2 322 805 767 564,09</td>\n",
              "    </tr>\n",
              "  </tbody>\n",
              "</table>\n",
              "</div>"
            ],
            "text/plain": [
              "  Kabupaten/Kota\\rRegency/Municipality  ...             Unnamed: 0\n",
              "0                                  NaN  ...  Belanja\\rExpenditures\n",
              "1                                  (1)  ...                    (3)\n",
              "2                    Kabupaten/Regency  ...                    NaN\n",
              "3                              Pacitan  ...   1 665 549 144 945,82\n",
              "4                             Ponorogo  ...   2 322 805 767 564,09\n",
              "\n",
              "[5 rows x 3 columns]"
            ]
          },
          "metadata": {
            "tags": []
          },
          "execution_count": 10
        }
      ]
    },
    {
      "cell_type": "code",
      "metadata": {
        "colab": {
          "base_uri": "https://localhost:8080/"
        },
        "id": "XaffQqtSCGIr",
        "outputId": "03640698-86c9-49b3-b8ef-8e747d8a0caf"
      },
      "source": [
        "df.shape"
      ],
      "execution_count": null,
      "outputs": [
        {
          "output_type": "execute_result",
          "data": {
            "text/plain": [
              "(43, 3)"
            ]
          },
          "metadata": {
            "tags": []
          },
          "execution_count": 11
        }
      ]
    },
    {
      "cell_type": "markdown",
      "metadata": {
        "id": "j05qBxuuIJtt"
      },
      "source": [
        "Perhatikan tabel diatas, dalam penamaan nama kolom, formatnya masih kurang rapi, selain itu ada kolom-kolom yang masuk ke dalam baris."
      ]
    },
    {
      "cell_type": "code",
      "metadata": {
        "colab": {
          "base_uri": "https://localhost:8080/",
          "height": 203
        },
        "id": "Mt11FnDFygh3",
        "outputId": "7bb538b5-78de-4485-f6e6-de77f304184e"
      },
      "source": [
        "# Cleaning Data\n",
        "df_clean = df.iloc[3:].reset_index(drop=True) #mengambil data dari baris index ke-3, dan mereset index agar mulai dari 0\n",
        "df_clean.head()"
      ],
      "execution_count": null,
      "outputs": [
        {
          "output_type": "execute_result",
          "data": {
            "text/html": [
              "<div>\n",
              "<style scoped>\n",
              "    .dataframe tbody tr th:only-of-type {\n",
              "        vertical-align: middle;\n",
              "    }\n",
              "\n",
              "    .dataframe tbody tr th {\n",
              "        vertical-align: top;\n",
              "    }\n",
              "\n",
              "    .dataframe thead th {\n",
              "        text-align: right;\n",
              "    }\n",
              "</style>\n",
              "<table border=\"1\" class=\"dataframe\">\n",
              "  <thead>\n",
              "    <tr style=\"text-align: right;\">\n",
              "      <th></th>\n",
              "      <th>Kabupaten/Kota\\rRegency/Municipality</th>\n",
              "      <th>2018</th>\n",
              "      <th>Unnamed: 0</th>\n",
              "    </tr>\n",
              "  </thead>\n",
              "  <tbody>\n",
              "    <tr>\n",
              "      <th>0</th>\n",
              "      <td>Pacitan</td>\n",
              "      <td>1 615 114 387 846,00</td>\n",
              "      <td>1 665 549 144 945,82</td>\n",
              "    </tr>\n",
              "    <tr>\n",
              "      <th>1</th>\n",
              "      <td>Ponorogo</td>\n",
              "      <td>2 280 253 624 958,67</td>\n",
              "      <td>2 322 805 767 564,09</td>\n",
              "    </tr>\n",
              "    <tr>\n",
              "      <th>2</th>\n",
              "      <td>Trenggalek</td>\n",
              "      <td>1 783 656 956 465,47</td>\n",
              "      <td>1 946 046 774 834,78</td>\n",
              "    </tr>\n",
              "    <tr>\n",
              "      <th>3</th>\n",
              "      <td>Tulungagung</td>\n",
              "      <td>2 584 915 681 735,77</td>\n",
              "      <td>2 800 598 386 012,13</td>\n",
              "    </tr>\n",
              "    <tr>\n",
              "      <th>4</th>\n",
              "      <td>Blitar</td>\n",
              "      <td>2 361 756 636 564,51</td>\n",
              "      <td>2 456 663 058 142,18</td>\n",
              "    </tr>\n",
              "  </tbody>\n",
              "</table>\n",
              "</div>"
            ],
            "text/plain": [
              "  Kabupaten/Kota\\rRegency/Municipality  ...            Unnamed: 0\n",
              "0                              Pacitan  ...  1 665 549 144 945,82\n",
              "1                             Ponorogo  ...  2 322 805 767 564,09\n",
              "2                           Trenggalek  ...  1 946 046 774 834,78\n",
              "3                          Tulungagung  ...  2 800 598 386 012,13\n",
              "4                               Blitar  ...  2 456 663 058 142,18\n",
              "\n",
              "[5 rows x 3 columns]"
            ]
          },
          "metadata": {
            "tags": []
          },
          "execution_count": 12
        }
      ]
    },
    {
      "cell_type": "code",
      "metadata": {
        "id": "UWUKlvz53T_p"
      },
      "source": [
        "df_clean.columns = [df.columns[0],df['2018'][0],df['Unnamed: 0'][0]] #rename nama kolom"
      ],
      "execution_count": null,
      "outputs": []
    },
    {
      "cell_type": "code",
      "metadata": {
        "colab": {
          "base_uri": "https://localhost:8080/",
          "height": 203
        },
        "id": "YnITrdkP4g7h",
        "outputId": "b00c2287-941b-48ae-9d0b-77371a82d834"
      },
      "source": [
        "# Menampilkan 5 data teratas dari file\n",
        "df_clean.head()"
      ],
      "execution_count": null,
      "outputs": [
        {
          "output_type": "execute_result",
          "data": {
            "text/html": [
              "<div>\n",
              "<style scoped>\n",
              "    .dataframe tbody tr th:only-of-type {\n",
              "        vertical-align: middle;\n",
              "    }\n",
              "\n",
              "    .dataframe tbody tr th {\n",
              "        vertical-align: top;\n",
              "    }\n",
              "\n",
              "    .dataframe thead th {\n",
              "        text-align: right;\n",
              "    }\n",
              "</style>\n",
              "<table border=\"1\" class=\"dataframe\">\n",
              "  <thead>\n",
              "    <tr style=\"text-align: right;\">\n",
              "      <th></th>\n",
              "      <th>Kabupaten/Kota\\rRegency/Municipality</th>\n",
              "      <th>Pendapatan\\rRevenues</th>\n",
              "      <th>Belanja\\rExpenditures</th>\n",
              "    </tr>\n",
              "  </thead>\n",
              "  <tbody>\n",
              "    <tr>\n",
              "      <th>0</th>\n",
              "      <td>Pacitan</td>\n",
              "      <td>1 615 114 387 846,00</td>\n",
              "      <td>1 665 549 144 945,82</td>\n",
              "    </tr>\n",
              "    <tr>\n",
              "      <th>1</th>\n",
              "      <td>Ponorogo</td>\n",
              "      <td>2 280 253 624 958,67</td>\n",
              "      <td>2 322 805 767 564,09</td>\n",
              "    </tr>\n",
              "    <tr>\n",
              "      <th>2</th>\n",
              "      <td>Trenggalek</td>\n",
              "      <td>1 783 656 956 465,47</td>\n",
              "      <td>1 946 046 774 834,78</td>\n",
              "    </tr>\n",
              "    <tr>\n",
              "      <th>3</th>\n",
              "      <td>Tulungagung</td>\n",
              "      <td>2 584 915 681 735,77</td>\n",
              "      <td>2 800 598 386 012,13</td>\n",
              "    </tr>\n",
              "    <tr>\n",
              "      <th>4</th>\n",
              "      <td>Blitar</td>\n",
              "      <td>2 361 756 636 564,51</td>\n",
              "      <td>2 456 663 058 142,18</td>\n",
              "    </tr>\n",
              "  </tbody>\n",
              "</table>\n",
              "</div>"
            ],
            "text/plain": [
              "  Kabupaten/Kota\\rRegency/Municipality  ... Belanja\\rExpenditures\n",
              "0                              Pacitan  ...  1 665 549 144 945,82\n",
              "1                             Ponorogo  ...  2 322 805 767 564,09\n",
              "2                           Trenggalek  ...  1 946 046 774 834,78\n",
              "3                          Tulungagung  ...  2 800 598 386 012,13\n",
              "4                               Blitar  ...  2 456 663 058 142,18\n",
              "\n",
              "[5 rows x 3 columns]"
            ]
          },
          "metadata": {
            "tags": []
          },
          "execution_count": 14
        }
      ]
    },
    {
      "cell_type": "code",
      "metadata": {
        "colab": {
          "base_uri": "https://localhost:8080/",
          "height": 1000
        },
        "id": "QQ59Tg8c4i9a",
        "outputId": "f2d76a0d-b8e6-4e7c-cd28-c5f76264f07f"
      },
      "source": [
        "# Cleaning data columns\n",
        "df_clean.columns = df_clean.columns.str.replace('\\r', '/') # Mengganti \"\\r\" menjadi garis miring\n",
        "df_clean.head(35)"
      ],
      "execution_count": null,
      "outputs": [
        {
          "output_type": "execute_result",
          "data": {
            "text/html": [
              "<div>\n",
              "<style scoped>\n",
              "    .dataframe tbody tr th:only-of-type {\n",
              "        vertical-align: middle;\n",
              "    }\n",
              "\n",
              "    .dataframe tbody tr th {\n",
              "        vertical-align: top;\n",
              "    }\n",
              "\n",
              "    .dataframe thead th {\n",
              "        text-align: right;\n",
              "    }\n",
              "</style>\n",
              "<table border=\"1\" class=\"dataframe\">\n",
              "  <thead>\n",
              "    <tr style=\"text-align: right;\">\n",
              "      <th></th>\n",
              "      <th>Kabupaten/Kota/Regency/Municipality</th>\n",
              "      <th>Pendapatan/Revenues</th>\n",
              "      <th>Belanja/Expenditures</th>\n",
              "    </tr>\n",
              "  </thead>\n",
              "  <tbody>\n",
              "    <tr>\n",
              "      <th>0</th>\n",
              "      <td>Pacitan</td>\n",
              "      <td>1 615 114 387 846,00</td>\n",
              "      <td>1 665 549 144 945,82</td>\n",
              "    </tr>\n",
              "    <tr>\n",
              "      <th>1</th>\n",
              "      <td>Ponorogo</td>\n",
              "      <td>2 280 253 624 958,67</td>\n",
              "      <td>2 322 805 767 564,09</td>\n",
              "    </tr>\n",
              "    <tr>\n",
              "      <th>2</th>\n",
              "      <td>Trenggalek</td>\n",
              "      <td>1 783 656 956 465,47</td>\n",
              "      <td>1 946 046 774 834,78</td>\n",
              "    </tr>\n",
              "    <tr>\n",
              "      <th>3</th>\n",
              "      <td>Tulungagung</td>\n",
              "      <td>2 584 915 681 735,77</td>\n",
              "      <td>2 800 598 386 012,13</td>\n",
              "    </tr>\n",
              "    <tr>\n",
              "      <th>4</th>\n",
              "      <td>Blitar</td>\n",
              "      <td>2 361 756 636 564,51</td>\n",
              "      <td>2 456 663 058 142,18</td>\n",
              "    </tr>\n",
              "    <tr>\n",
              "      <th>5</th>\n",
              "      <td>Kediri</td>\n",
              "      <td>2 722 803 932 568,56</td>\n",
              "      <td>3 149 740 395 312,47</td>\n",
              "    </tr>\n",
              "    <tr>\n",
              "      <th>6</th>\n",
              "      <td>Malang</td>\n",
              "      <td>3 800 114 750 714,82</td>\n",
              "      <td>4 050 668 474 662,23</td>\n",
              "    </tr>\n",
              "    <tr>\n",
              "      <th>7</th>\n",
              "      <td>Lumajang</td>\n",
              "      <td>2 094 116 512 299,30</td>\n",
              "      <td>2 256 619 621 618,47</td>\n",
              "    </tr>\n",
              "    <tr>\n",
              "      <th>8</th>\n",
              "      <td>Jember</td>\n",
              "      <td>3 601 294 429 685,50</td>\n",
              "      <td>4 163 624 940 931,97</td>\n",
              "    </tr>\n",
              "    <tr>\n",
              "      <th>9</th>\n",
              "      <td>Banyuwangi</td>\n",
              "      <td>3 112 910 584 037,82</td>\n",
              "      <td>2 932 152 201 493,82</td>\n",
              "    </tr>\n",
              "    <tr>\n",
              "      <th>10</th>\n",
              "      <td>Bondowoso</td>\n",
              "      <td>2 054 792 275 602,83</td>\n",
              "      <td>2 171 884 322 387,31</td>\n",
              "    </tr>\n",
              "    <tr>\n",
              "      <th>11</th>\n",
              "      <td>Situbondo</td>\n",
              "      <td>1 729 391 756 376,90</td>\n",
              "      <td>1 849 288 303 240,09</td>\n",
              "    </tr>\n",
              "    <tr>\n",
              "      <th>12</th>\n",
              "      <td>Probolinggo</td>\n",
              "      <td>2 150 613 638 624,38</td>\n",
              "      <td>2 325 106 278 976,72</td>\n",
              "    </tr>\n",
              "    <tr>\n",
              "      <th>13</th>\n",
              "      <td>Pasuruan</td>\n",
              "      <td>3 258 476 590 551,69</td>\n",
              "      <td>3 376 868 296 332,53</td>\n",
              "    </tr>\n",
              "    <tr>\n",
              "      <th>14</th>\n",
              "      <td>Sidoarjo</td>\n",
              "      <td>4 124 471 103 455,83</td>\n",
              "      <td>5 005 097 845 031,35</td>\n",
              "    </tr>\n",
              "    <tr>\n",
              "      <th>15</th>\n",
              "      <td>Mojokerto</td>\n",
              "      <td>2 392 324 886 534,77</td>\n",
              "      <td>2 672 024 585 315,54</td>\n",
              "    </tr>\n",
              "    <tr>\n",
              "      <th>16</th>\n",
              "      <td>Jombang</td>\n",
              "      <td>2 489 476 899 944,85</td>\n",
              "      <td>2 832 829 111 562,94</td>\n",
              "    </tr>\n",
              "    <tr>\n",
              "      <th>17</th>\n",
              "      <td>Nganjuk</td>\n",
              "      <td>2 324 690 319 859,31</td>\n",
              "      <td>2 617 124 429 605,65</td>\n",
              "    </tr>\n",
              "    <tr>\n",
              "      <th>18</th>\n",
              "      <td>Madiun</td>\n",
              "      <td>1 788 177 228 001,00</td>\n",
              "      <td>1 812 000 389 361,00</td>\n",
              "    </tr>\n",
              "    <tr>\n",
              "      <th>19</th>\n",
              "      <td>Magetan</td>\n",
              "      <td>1 746 041 429 722,08</td>\n",
              "      <td>1 921 830 391 205,08</td>\n",
              "    </tr>\n",
              "    <tr>\n",
              "      <th>20</th>\n",
              "      <td>Ngawi</td>\n",
              "      <td>1 992 494 803 197,85</td>\n",
              "      <td>2 172 957 671 262,18</td>\n",
              "    </tr>\n",
              "    <tr>\n",
              "      <th>21</th>\n",
              "      <td>Bojonegoro</td>\n",
              "      <td>3 350 746 300 371,78</td>\n",
              "      <td>3 628 531 299 762,72</td>\n",
              "    </tr>\n",
              "    <tr>\n",
              "      <th>22</th>\n",
              "      <td>Tuban</td>\n",
              "      <td>2 325 695 728 754,10</td>\n",
              "      <td>2 596 899 799 569,44</td>\n",
              "    </tr>\n",
              "    <tr>\n",
              "      <th>23</th>\n",
              "      <td>Lamongan</td>\n",
              "      <td>2 904 681 838 535,00</td>\n",
              "      <td>2 950 680 611 024,51</td>\n",
              "    </tr>\n",
              "    <tr>\n",
              "      <th>24</th>\n",
              "      <td>Gresik</td>\n",
              "      <td>2 870 853 525 257,00</td>\n",
              "      <td>3 036 339 122 030,74</td>\n",
              "    </tr>\n",
              "    <tr>\n",
              "      <th>25</th>\n",
              "      <td>Bangkalan</td>\n",
              "      <td>2 071 928 257 959,40</td>\n",
              "      <td>2 260 903 470 049,51</td>\n",
              "    </tr>\n",
              "    <tr>\n",
              "      <th>26</th>\n",
              "      <td>Sampang</td>\n",
              "      <td>1 713 487 271 710,06</td>\n",
              "      <td>1 834 655 838 274,49</td>\n",
              "    </tr>\n",
              "    <tr>\n",
              "      <th>27</th>\n",
              "      <td>Pamekasan</td>\n",
              "      <td>1 761 281 131 744,00</td>\n",
              "      <td>2 138 127 562 564,00</td>\n",
              "    </tr>\n",
              "    <tr>\n",
              "      <th>28</th>\n",
              "      <td>Sumenep</td>\n",
              "      <td>2 231 188 899 160,00</td>\n",
              "      <td>2 486 861 383 624,00</td>\n",
              "    </tr>\n",
              "    <tr>\n",
              "      <th>29</th>\n",
              "      <td>Kota/Municipality</td>\n",
              "      <td>NaN</td>\n",
              "      <td>NaN</td>\n",
              "    </tr>\n",
              "    <tr>\n",
              "      <th>30</th>\n",
              "      <td>Kediri</td>\n",
              "      <td>1 225 131 169 223,25</td>\n",
              "      <td>1 425 225 617 136,69</td>\n",
              "    </tr>\n",
              "    <tr>\n",
              "      <th>31</th>\n",
              "      <td>Blitar</td>\n",
              "      <td>844 692 292 324,05</td>\n",
              "      <td>972 204 365 136,51</td>\n",
              "    </tr>\n",
              "    <tr>\n",
              "      <th>32</th>\n",
              "      <td>Malang</td>\n",
              "      <td>1 986 432 106 698,91</td>\n",
              "      <td>2 360 831 551 277,57</td>\n",
              "    </tr>\n",
              "    <tr>\n",
              "      <th>33</th>\n",
              "      <td>Probolinggo</td>\n",
              "      <td>833 603 523 833,37</td>\n",
              "      <td>907 766 807 435,83</td>\n",
              "    </tr>\n",
              "    <tr>\n",
              "      <th>34</th>\n",
              "      <td>Pasuruan</td>\n",
              "      <td>860 332 267 210,24</td>\n",
              "      <td>1 006 333 411 941,04</td>\n",
              "    </tr>\n",
              "  </tbody>\n",
              "</table>\n",
              "</div>"
            ],
            "text/plain": [
              "   Kabupaten/Kota/Regency/Municipality  ...  Belanja/Expenditures\n",
              "0                              Pacitan  ...  1 665 549 144 945,82\n",
              "1                             Ponorogo  ...  2 322 805 767 564,09\n",
              "2                           Trenggalek  ...  1 946 046 774 834,78\n",
              "3                          Tulungagung  ...  2 800 598 386 012,13\n",
              "4                               Blitar  ...  2 456 663 058 142,18\n",
              "5                               Kediri  ...  3 149 740 395 312,47\n",
              "6                               Malang  ...  4 050 668 474 662,23\n",
              "7                             Lumajang  ...  2 256 619 621 618,47\n",
              "8                               Jember  ...  4 163 624 940 931,97\n",
              "9                           Banyuwangi  ...  2 932 152 201 493,82\n",
              "10                           Bondowoso  ...  2 171 884 322 387,31\n",
              "11                           Situbondo  ...  1 849 288 303 240,09\n",
              "12                         Probolinggo  ...  2 325 106 278 976,72\n",
              "13                            Pasuruan  ...  3 376 868 296 332,53\n",
              "14                            Sidoarjo  ...  5 005 097 845 031,35\n",
              "15                           Mojokerto  ...  2 672 024 585 315,54\n",
              "16                             Jombang  ...  2 832 829 111 562,94\n",
              "17                             Nganjuk  ...  2 617 124 429 605,65\n",
              "18                              Madiun  ...  1 812 000 389 361,00\n",
              "19                             Magetan  ...  1 921 830 391 205,08\n",
              "20                               Ngawi  ...  2 172 957 671 262,18\n",
              "21                          Bojonegoro  ...  3 628 531 299 762,72\n",
              "22                               Tuban  ...  2 596 899 799 569,44\n",
              "23                            Lamongan  ...  2 950 680 611 024,51\n",
              "24                              Gresik  ...  3 036 339 122 030,74\n",
              "25                           Bangkalan  ...  2 260 903 470 049,51\n",
              "26                             Sampang  ...  1 834 655 838 274,49\n",
              "27                           Pamekasan  ...  2 138 127 562 564,00\n",
              "28                             Sumenep  ...  2 486 861 383 624,00\n",
              "29                   Kota/Municipality  ...                   NaN\n",
              "30                              Kediri  ...  1 425 225 617 136,69\n",
              "31                              Blitar  ...    972 204 365 136,51\n",
              "32                              Malang  ...  2 360 831 551 277,57\n",
              "33                         Probolinggo  ...    907 766 807 435,83\n",
              "34                            Pasuruan  ...  1 006 333 411 941,04\n",
              "\n",
              "[35 rows x 3 columns]"
            ]
          },
          "metadata": {
            "tags": []
          },
          "execution_count": 15
        }
      ]
    },
    {
      "cell_type": "code",
      "metadata": {
        "colab": {
          "base_uri": "https://localhost:8080/",
          "height": 203
        },
        "id": "cunGND7M5YEe",
        "outputId": "31cdeb45-7d97-4c75-e180-9595e67acccc"
      },
      "source": [
        "# Cleaning Data Content\n",
        "df_clean = df_clean.drop(labels=29, axis=0) #hapus baris index ke 29\n",
        "df_clean['Pendapatan/Revenues'] = df_clean['Pendapatan/Revenues'].str.replace(\" \",\"\").str.replace(\",\",\".\") #hapus spasi dan ubah tanda koma\n",
        "df_clean['Belanja/Expenditures'] = df_clean['Belanja/Expenditures'].str.replace(\" \",\"\").str.replace(\",\",\".\") #hapus spasi dan ubah tanda koma\n",
        "df_clean.head()"
      ],
      "execution_count": null,
      "outputs": [
        {
          "output_type": "execute_result",
          "data": {
            "text/html": [
              "<div>\n",
              "<style scoped>\n",
              "    .dataframe tbody tr th:only-of-type {\n",
              "        vertical-align: middle;\n",
              "    }\n",
              "\n",
              "    .dataframe tbody tr th {\n",
              "        vertical-align: top;\n",
              "    }\n",
              "\n",
              "    .dataframe thead th {\n",
              "        text-align: right;\n",
              "    }\n",
              "</style>\n",
              "<table border=\"1\" class=\"dataframe\">\n",
              "  <thead>\n",
              "    <tr style=\"text-align: right;\">\n",
              "      <th></th>\n",
              "      <th>Kabupaten/Kota/Regency/Municipality</th>\n",
              "      <th>Pendapatan/Revenues</th>\n",
              "      <th>Belanja/Expenditures</th>\n",
              "    </tr>\n",
              "  </thead>\n",
              "  <tbody>\n",
              "    <tr>\n",
              "      <th>0</th>\n",
              "      <td>Pacitan</td>\n",
              "      <td>1615114387846.00</td>\n",
              "      <td>1665549144945.82</td>\n",
              "    </tr>\n",
              "    <tr>\n",
              "      <th>1</th>\n",
              "      <td>Ponorogo</td>\n",
              "      <td>2280253624958.67</td>\n",
              "      <td>2322805767564.09</td>\n",
              "    </tr>\n",
              "    <tr>\n",
              "      <th>2</th>\n",
              "      <td>Trenggalek</td>\n",
              "      <td>1783656956465.47</td>\n",
              "      <td>1946046774834.78</td>\n",
              "    </tr>\n",
              "    <tr>\n",
              "      <th>3</th>\n",
              "      <td>Tulungagung</td>\n",
              "      <td>2584915681735.77</td>\n",
              "      <td>2800598386012.13</td>\n",
              "    </tr>\n",
              "    <tr>\n",
              "      <th>4</th>\n",
              "      <td>Blitar</td>\n",
              "      <td>2361756636564.51</td>\n",
              "      <td>2456663058142.18</td>\n",
              "    </tr>\n",
              "  </tbody>\n",
              "</table>\n",
              "</div>"
            ],
            "text/plain": [
              "  Kabupaten/Kota/Regency/Municipality Pendapatan/Revenues Belanja/Expenditures\n",
              "0                             Pacitan    1615114387846.00     1665549144945.82\n",
              "1                            Ponorogo    2280253624958.67     2322805767564.09\n",
              "2                          Trenggalek    1783656956465.47     1946046774834.78\n",
              "3                         Tulungagung    2584915681735.77     2800598386012.13\n",
              "4                              Blitar    2361756636564.51     2456663058142.18"
            ]
          },
          "metadata": {
            "tags": []
          },
          "execution_count": 16
        }
      ]
    },
    {
      "cell_type": "code",
      "metadata": {
        "id": "bgFyFoiw7Jz0",
        "colab": {
          "base_uri": "https://localhost:8080/"
        },
        "outputId": "e76b63cf-b031-47af-926c-5fc4fec4f76b"
      },
      "source": [
        "df_clean.info()"
      ],
      "execution_count": null,
      "outputs": [
        {
          "output_type": "stream",
          "text": [
            "<class 'pandas.core.frame.DataFrame'>\n",
            "Int64Index: 39 entries, 0 to 39\n",
            "Data columns (total 3 columns):\n",
            " #   Column                               Non-Null Count  Dtype \n",
            "---  ------                               --------------  ----- \n",
            " 0   Kabupaten/Kota/Regency/Municipality  39 non-null     object\n",
            " 1   Pendapatan/Revenues                  39 non-null     object\n",
            " 2   Belanja/Expenditures                 39 non-null     object\n",
            "dtypes: object(3)\n",
            "memory usage: 1.2+ KB\n"
          ],
          "name": "stdout"
        }
      ]
    },
    {
      "cell_type": "code",
      "metadata": {
        "id": "VqS-7u-P7IHc"
      },
      "source": [
        "# dijadikan bentuk numerik (float) agar dapat di agregasi (sum,average,perhitungan matematik)\n",
        "df_clean['Pendapatan/Revenues'] = df_clean['Pendapatan/Revenues'].astype(float)\n",
        "df_clean['Belanja/Expenditures'] = df_clean['Belanja/Expenditures'].astype(float)"
      ],
      "execution_count": null,
      "outputs": []
    },
    {
      "cell_type": "code",
      "metadata": {
        "colab": {
          "base_uri": "https://localhost:8080/",
          "height": 203
        },
        "id": "atc0uMtK_GIl",
        "outputId": "6270fcef-0450-4b88-bfb2-ad8e2a7a8f23"
      },
      "source": [
        "df_clean.head()"
      ],
      "execution_count": null,
      "outputs": [
        {
          "output_type": "execute_result",
          "data": {
            "text/html": [
              "<div>\n",
              "<style scoped>\n",
              "    .dataframe tbody tr th:only-of-type {\n",
              "        vertical-align: middle;\n",
              "    }\n",
              "\n",
              "    .dataframe tbody tr th {\n",
              "        vertical-align: top;\n",
              "    }\n",
              "\n",
              "    .dataframe thead th {\n",
              "        text-align: right;\n",
              "    }\n",
              "</style>\n",
              "<table border=\"1\" class=\"dataframe\">\n",
              "  <thead>\n",
              "    <tr style=\"text-align: right;\">\n",
              "      <th></th>\n",
              "      <th>Kabupaten/Kota/Regency/Municipality</th>\n",
              "      <th>Pendapatan/Revenues</th>\n",
              "      <th>Belanja/Expenditures</th>\n",
              "    </tr>\n",
              "  </thead>\n",
              "  <tbody>\n",
              "    <tr>\n",
              "      <th>0</th>\n",
              "      <td>Pacitan</td>\n",
              "      <td>1.615114e+12</td>\n",
              "      <td>1.665549e+12</td>\n",
              "    </tr>\n",
              "    <tr>\n",
              "      <th>1</th>\n",
              "      <td>Ponorogo</td>\n",
              "      <td>2.280254e+12</td>\n",
              "      <td>2.322806e+12</td>\n",
              "    </tr>\n",
              "    <tr>\n",
              "      <th>2</th>\n",
              "      <td>Trenggalek</td>\n",
              "      <td>1.783657e+12</td>\n",
              "      <td>1.946047e+12</td>\n",
              "    </tr>\n",
              "    <tr>\n",
              "      <th>3</th>\n",
              "      <td>Tulungagung</td>\n",
              "      <td>2.584916e+12</td>\n",
              "      <td>2.800598e+12</td>\n",
              "    </tr>\n",
              "    <tr>\n",
              "      <th>4</th>\n",
              "      <td>Blitar</td>\n",
              "      <td>2.361757e+12</td>\n",
              "      <td>2.456663e+12</td>\n",
              "    </tr>\n",
              "  </tbody>\n",
              "</table>\n",
              "</div>"
            ],
            "text/plain": [
              "  Kabupaten/Kota/Regency/Municipality  ...  Belanja/Expenditures\n",
              "0                             Pacitan  ...          1.665549e+12\n",
              "1                            Ponorogo  ...          2.322806e+12\n",
              "2                          Trenggalek  ...          1.946047e+12\n",
              "3                         Tulungagung  ...          2.800598e+12\n",
              "4                              Blitar  ...          2.456663e+12\n",
              "\n",
              "[5 rows x 3 columns]"
            ]
          },
          "metadata": {
            "tags": []
          },
          "execution_count": 19
        }
      ]
    },
    {
      "cell_type": "code",
      "metadata": {
        "id": "N1ugrCJ0_8sT"
      },
      "source": [
        "# convert DataFrame to .xlsx\n",
        "df_clean.to_excel(path + 'convert_excel.xlsx', index=None) #tidak menyimpan inedx dari dataframe tersebut"
      ],
      "execution_count": null,
      "outputs": []
    },
    {
      "cell_type": "code",
      "metadata": {
        "id": "I-26JTHABLAj"
      },
      "source": [
        "# convert DataFrame to .csv\n",
        "df_clean.to_csv(path + 'convert_csv.csv', index=None) #tidak menyimpan inedx dari dataframe tersebut"
      ],
      "execution_count": null,
      "outputs": []
    },
    {
      "cell_type": "markdown",
      "metadata": {
        "id": "vnaeHjblBVga"
      },
      "source": [
        "## Convert Pdf to Docx\n",
        "\n",
        "Dalam mengconvert file pdf kedalam document file kita akan menggunakan module pdf2docx. Untuk lebih jelasnya perhatikan code dibawah ini."
      ]
    },
    {
      "cell_type": "code",
      "metadata": {
        "colab": {
          "base_uri": "https://localhost:8080/"
        },
        "id": "sTPbQNsKBQ2V",
        "outputId": "e930156e-8254-4ed9-9ce9-37d975b5f9e7"
      },
      "source": [
        "# Pilih directory tempat file pdf tersimpan\n",
        "pdf_file = path + 'Provinsi Jawa Timur Dalam Angka 2020-pages-85.pdf'\n",
        "\n",
        "# Pilih directory tempat data docx akan tersimpan, dan masukkan nama file untuk file document\n",
        "docx_file = path + 'Provinsi Jawa Timur Dalam Angka 2020-pages-85.docx' #nama file bisa diganti\n",
        "\n",
        "# Convert pdf to docx\n",
        "cv = Converter(pdf_file)\n",
        "\n",
        "# Proses pdf dan pilih halaman yang akan di convert\n",
        "cv.convert(docx_file, start=0, end=None) #convert pdf halaman pertama\n",
        "cv.close()"
      ],
      "execution_count": null,
      "outputs": [
        {
          "output_type": "stream",
          "text": [
            "\rParsing Page 1: 1/1...Ignore Line \"Table2.4.3 Realisasi Pendapatan dan Belanja Pemerintah Provinsi\" due to overlap\n",
            "Ignore Line \"Menurut Kabupaten/Kota di Provinsi Jawa Timur, 2018 dan\" due to overlap\n",
            "\n",
            "Creating Page 1: 1/1...\n",
            "--------------------------------------------------\n",
            "Terminated in 2.036556037000082s.\n"
          ],
          "name": "stdout"
        }
      ]
    },
    {
      "cell_type": "code",
      "metadata": {
        "colab": {
          "base_uri": "https://localhost:8080/"
        },
        "id": "Hliev4GXCbwV",
        "outputId": "a4e70089-5d28-474b-87b6-0f2e8b3ea560"
      },
      "source": [
        "# cek apakah dat aconvert sudah berhasil masuk ke dalam drive\n",
        "os.listdir(path)"
      ],
      "execution_count": null,
      "outputs": [
        {
          "output_type": "execute_result",
          "data": {
            "text/plain": [
              "['Provinsi Jawa Timur Dalam Angka 2020-pages-85.pdf',\n",
              " 'data description.txt',\n",
              " 'OnlineRetail.xlsx',\n",
              " 'OnlineRetail.csv',\n",
              " 'convert_excel.xlsx',\n",
              " 'convert_csv.csv',\n",
              " '.ipynb_checkpoints',\n",
              " 'Provinsi Jawa Timur Dalam Angka 2020-pages-85.docx']"
            ]
          },
          "metadata": {
            "tags": []
          },
          "execution_count": 26
        }
      ]
    }
  ]
}
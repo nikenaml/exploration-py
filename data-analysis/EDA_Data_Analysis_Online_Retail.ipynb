{
  "nbformat": 4,
  "nbformat_minor": 0,
  "metadata": {
    "colab": {
      "name": "EDA Data Analysis - Online Retail.ipynb",
      "provenance": [],
      "collapsed_sections": []
    },
    "kernelspec": {
      "display_name": "Python 3",
      "name": "python3"
    },
    "language_info": {
      "name": "python"
    }
  },
  "cells": [
    {
      "cell_type": "markdown",
      "metadata": {
        "id": "fvtTZWkx69ko"
      },
      "source": [
        "# Introduction to Data Analyst\n",
        "\n",
        "Dalam notebook ini membahas mengenai data pre-processing, salah satu langkah penting dalam mengolah data."
      ]
    },
    {
      "cell_type": "markdown",
      "metadata": {
        "id": "tC4urmPL7Nox"
      },
      "source": [
        "## Connect Gdrive kedalam Colab"
      ]
    },
    {
      "cell_type": "code",
      "metadata": {
        "colab": {
          "base_uri": "https://localhost:8080/"
        },
        "id": "XTiBLDpBEEWz",
        "outputId": "2baf36ef-63e0-4940-e445-0537a7d2e591"
      },
      "source": [
        "# Mengakses google drive ke dalam google colaboratory\n",
        "from google.colab import drive\n",
        "drive.mount('/content/gdrive', force_remount=True)"
      ],
      "execution_count": null,
      "outputs": [
        {
          "output_type": "stream",
          "text": [
            "Mounted at /content/gdrive\n"
          ],
          "name": "stdout"
        }
      ]
    },
    {
      "cell_type": "markdown",
      "metadata": {
        "id": "5r-zZ7YXUvgb"
      },
      "source": [
        "## Import Packages"
      ]
    },
    {
      "cell_type": "code",
      "metadata": {
        "id": "V9eCIOWtFOGa"
      },
      "source": [
        "# Import library\n",
        "import pandas as pd\n",
        "from scipy.stats import mode # untuk operasi perhitungan statistik deskriptif\n",
        "import os"
      ],
      "execution_count": null,
      "outputs": []
    },
    {
      "cell_type": "markdown",
      "metadata": {
        "id": "GbSS1_O-V2eY"
      },
      "source": [
        "## Import Data"
      ]
    },
    {
      "cell_type": "markdown",
      "metadata": {
        "id": "kWda-u9zXy3g"
      },
      "source": [
        "## Read CSV File\n",
        "\n",
        "Langkah pertama dalam membaca file adalah memastikan dimana file tersimpan. Buatlah path yang merepresentasikan letak data yang tersimpan."
      ]
    },
    {
      "cell_type": "code",
      "metadata": {
        "id": "7qS4svSrX1ib"
      },
      "source": [
        "# Inisiasi directory tempat data akan dibaca dan disimpan\n",
        "path = \"gdrive/MyDrive/learn-py/narasiodata/day1-pdaib/\""
      ],
      "execution_count": null,
      "outputs": []
    },
    {
      "cell_type": "code",
      "metadata": {
        "colab": {
          "base_uri": "https://localhost:8080/"
        },
        "id": "NRwA3RCkc07K",
        "outputId": "c8eae9e8-b217-4c4f-fdbd-7722b3cfec5c"
      },
      "source": [
        "os.listdir(path)"
      ],
      "execution_count": null,
      "outputs": [
        {
          "output_type": "execute_result",
          "data": {
            "text/plain": [
              "['Provinsi Jawa Timur Dalam Angka 2020-pages-85.pdf',\n",
              " 'data description.txt',\n",
              " 'OnlineRetail.xlsx',\n",
              " 'OnlineRetail.csv',\n",
              " 'convert_csv.csv',\n",
              " '.ipynb_checkpoints',\n",
              " 'Provinsi Jawa Timur Dalam Angka 2020-pages-85.docx',\n",
              " 'convert_excel.xlsx']"
            ]
          },
          "metadata": {
            "tags": []
          },
          "execution_count": 7
        }
      ]
    },
    {
      "cell_type": "markdown",
      "metadata": {
        "id": "ya67Ikfn8IVx"
      },
      "source": [
        "Langkah kedua adalah membaca data untuk membaca data dan menampilkannya dalam bentuk dataframe akan menggunakan package yaitu pandas. Dataframe banyak digunakan oleh data analyst dalam mengolah data. Salah satu faktor utama penggunaan dataframe adalah data terdisplay dengan schema yang jelas sehingga memudahkan pembacaan data. Selain itu, perubahan-perubahan yang akan dilakukan dapat anda amati secara langsung dan memastikan apakah sudah sesuai dengan apa yang diharapkan."
      ]
    },
    {
      "cell_type": "code",
      "metadata": {
        "id": "ziDXTbqLc88_"
      },
      "source": [
        "# Membaca file csv\n",
        "df = pd.read_csv(path + 'OnlineRetail.csv', encoding=\"ISO-8859-1\")"
      ],
      "execution_count": null,
      "outputs": []
    },
    {
      "cell_type": "code",
      "metadata": {
        "colab": {
          "base_uri": "https://localhost:8080/",
          "height": 203
        },
        "id": "-2AopaZsdRMY",
        "outputId": "3ca827b2-1396-47f5-e495-51b6c413a49d"
      },
      "source": [
        "# Menampilkan 5 urutan teratas dari data\n",
        "df.head()"
      ],
      "execution_count": null,
      "outputs": [
        {
          "output_type": "execute_result",
          "data": {
            "text/html": [
              "<div>\n",
              "<style scoped>\n",
              "    .dataframe tbody tr th:only-of-type {\n",
              "        vertical-align: middle;\n",
              "    }\n",
              "\n",
              "    .dataframe tbody tr th {\n",
              "        vertical-align: top;\n",
              "    }\n",
              "\n",
              "    .dataframe thead th {\n",
              "        text-align: right;\n",
              "    }\n",
              "</style>\n",
              "<table border=\"1\" class=\"dataframe\">\n",
              "  <thead>\n",
              "    <tr style=\"text-align: right;\">\n",
              "      <th></th>\n",
              "      <th>InvoiceNo</th>\n",
              "      <th>StockCode</th>\n",
              "      <th>Description</th>\n",
              "      <th>Quantity</th>\n",
              "      <th>InvoiceDate</th>\n",
              "      <th>UnitPrice</th>\n",
              "      <th>CustomerID</th>\n",
              "      <th>Country</th>\n",
              "    </tr>\n",
              "  </thead>\n",
              "  <tbody>\n",
              "    <tr>\n",
              "      <th>0</th>\n",
              "      <td>536365</td>\n",
              "      <td>85123A</td>\n",
              "      <td>WHITE HANGING HEART T-LIGHT HOLDER</td>\n",
              "      <td>6</td>\n",
              "      <td>01-12-2010 08:26</td>\n",
              "      <td>2.55</td>\n",
              "      <td>17850.0</td>\n",
              "      <td>United Kingdom</td>\n",
              "    </tr>\n",
              "    <tr>\n",
              "      <th>1</th>\n",
              "      <td>536365</td>\n",
              "      <td>71053</td>\n",
              "      <td>WHITE METAL LANTERN</td>\n",
              "      <td>6</td>\n",
              "      <td>01-12-2010 08:26</td>\n",
              "      <td>3.39</td>\n",
              "      <td>17850.0</td>\n",
              "      <td>United Kingdom</td>\n",
              "    </tr>\n",
              "    <tr>\n",
              "      <th>2</th>\n",
              "      <td>536365</td>\n",
              "      <td>84406B</td>\n",
              "      <td>CREAM CUPID HEARTS COAT HANGER</td>\n",
              "      <td>8</td>\n",
              "      <td>01-12-2010 08:26</td>\n",
              "      <td>2.75</td>\n",
              "      <td>17850.0</td>\n",
              "      <td>United Kingdom</td>\n",
              "    </tr>\n",
              "    <tr>\n",
              "      <th>3</th>\n",
              "      <td>536365</td>\n",
              "      <td>84029G</td>\n",
              "      <td>KNITTED UNION FLAG HOT WATER BOTTLE</td>\n",
              "      <td>6</td>\n",
              "      <td>01-12-2010 08:26</td>\n",
              "      <td>3.39</td>\n",
              "      <td>17850.0</td>\n",
              "      <td>United Kingdom</td>\n",
              "    </tr>\n",
              "    <tr>\n",
              "      <th>4</th>\n",
              "      <td>536365</td>\n",
              "      <td>84029E</td>\n",
              "      <td>RED WOOLLY HOTTIE WHITE HEART.</td>\n",
              "      <td>6</td>\n",
              "      <td>01-12-2010 08:26</td>\n",
              "      <td>3.39</td>\n",
              "      <td>17850.0</td>\n",
              "      <td>United Kingdom</td>\n",
              "    </tr>\n",
              "  </tbody>\n",
              "</table>\n",
              "</div>"
            ],
            "text/plain": [
              "  InvoiceNo StockCode  ... CustomerID         Country\n",
              "0    536365    85123A  ...    17850.0  United Kingdom\n",
              "1    536365     71053  ...    17850.0  United Kingdom\n",
              "2    536365    84406B  ...    17850.0  United Kingdom\n",
              "3    536365    84029G  ...    17850.0  United Kingdom\n",
              "4    536365    84029E  ...    17850.0  United Kingdom\n",
              "\n",
              "[5 rows x 8 columns]"
            ]
          },
          "metadata": {
            "tags": []
          },
          "execution_count": 9
        }
      ]
    },
    {
      "cell_type": "code",
      "metadata": {
        "colab": {
          "base_uri": "https://localhost:8080/",
          "height": 203
        },
        "id": "iiW1AHgUdS3y",
        "outputId": "834ae617-e7cd-4e6f-989f-0b733c90dc52"
      },
      "source": [
        "# Menampilkan 5 urutan terbawah dari data\n",
        "df.tail()"
      ],
      "execution_count": null,
      "outputs": [
        {
          "output_type": "execute_result",
          "data": {
            "text/html": [
              "<div>\n",
              "<style scoped>\n",
              "    .dataframe tbody tr th:only-of-type {\n",
              "        vertical-align: middle;\n",
              "    }\n",
              "\n",
              "    .dataframe tbody tr th {\n",
              "        vertical-align: top;\n",
              "    }\n",
              "\n",
              "    .dataframe thead th {\n",
              "        text-align: right;\n",
              "    }\n",
              "</style>\n",
              "<table border=\"1\" class=\"dataframe\">\n",
              "  <thead>\n",
              "    <tr style=\"text-align: right;\">\n",
              "      <th></th>\n",
              "      <th>InvoiceNo</th>\n",
              "      <th>StockCode</th>\n",
              "      <th>Description</th>\n",
              "      <th>Quantity</th>\n",
              "      <th>InvoiceDate</th>\n",
              "      <th>UnitPrice</th>\n",
              "      <th>CustomerID</th>\n",
              "      <th>Country</th>\n",
              "    </tr>\n",
              "  </thead>\n",
              "  <tbody>\n",
              "    <tr>\n",
              "      <th>541904</th>\n",
              "      <td>581587</td>\n",
              "      <td>22613</td>\n",
              "      <td>PACK OF 20 SPACEBOY NAPKINS</td>\n",
              "      <td>12</td>\n",
              "      <td>09-12-2011 12:50</td>\n",
              "      <td>0.85</td>\n",
              "      <td>12680.0</td>\n",
              "      <td>France</td>\n",
              "    </tr>\n",
              "    <tr>\n",
              "      <th>541905</th>\n",
              "      <td>581587</td>\n",
              "      <td>22899</td>\n",
              "      <td>CHILDREN'S APRON DOLLY GIRL</td>\n",
              "      <td>6</td>\n",
              "      <td>09-12-2011 12:50</td>\n",
              "      <td>2.10</td>\n",
              "      <td>12680.0</td>\n",
              "      <td>France</td>\n",
              "    </tr>\n",
              "    <tr>\n",
              "      <th>541906</th>\n",
              "      <td>581587</td>\n",
              "      <td>23254</td>\n",
              "      <td>CHILDRENS CUTLERY DOLLY GIRL</td>\n",
              "      <td>4</td>\n",
              "      <td>09-12-2011 12:50</td>\n",
              "      <td>4.15</td>\n",
              "      <td>12680.0</td>\n",
              "      <td>France</td>\n",
              "    </tr>\n",
              "    <tr>\n",
              "      <th>541907</th>\n",
              "      <td>581587</td>\n",
              "      <td>23255</td>\n",
              "      <td>CHILDRENS CUTLERY CIRCUS PARADE</td>\n",
              "      <td>4</td>\n",
              "      <td>09-12-2011 12:50</td>\n",
              "      <td>4.15</td>\n",
              "      <td>12680.0</td>\n",
              "      <td>France</td>\n",
              "    </tr>\n",
              "    <tr>\n",
              "      <th>541908</th>\n",
              "      <td>581587</td>\n",
              "      <td>22138</td>\n",
              "      <td>BAKING SET 9 PIECE RETROSPOT</td>\n",
              "      <td>3</td>\n",
              "      <td>09-12-2011 12:50</td>\n",
              "      <td>4.95</td>\n",
              "      <td>12680.0</td>\n",
              "      <td>France</td>\n",
              "    </tr>\n",
              "  </tbody>\n",
              "</table>\n",
              "</div>"
            ],
            "text/plain": [
              "       InvoiceNo StockCode  ... CustomerID  Country\n",
              "541904    581587     22613  ...    12680.0   France\n",
              "541905    581587     22899  ...    12680.0   France\n",
              "541906    581587     23254  ...    12680.0   France\n",
              "541907    581587     23255  ...    12680.0   France\n",
              "541908    581587     22138  ...    12680.0   France\n",
              "\n",
              "[5 rows x 8 columns]"
            ]
          },
          "metadata": {
            "tags": []
          },
          "execution_count": 11
        }
      ]
    },
    {
      "cell_type": "markdown",
      "metadata": {
        "id": "8Q3o0z0NfORi"
      },
      "source": [
        "## Read Excel File"
      ]
    },
    {
      "cell_type": "code",
      "metadata": {
        "id": "2glYGRGod7kW"
      },
      "source": [
        "# Membaca file excel\n",
        "df_xlsx = pd.read_excel(path + \"OnlineRetail.xlsx\") "
      ],
      "execution_count": null,
      "outputs": []
    },
    {
      "cell_type": "code",
      "metadata": {
        "colab": {
          "base_uri": "https://localhost:8080/",
          "height": 203
        },
        "id": "CkQm3sWgfa9X",
        "outputId": "13977329-ffd9-4327-ffff-32761c3da34a"
      },
      "source": [
        "# Menampilkan 5 urutan teratars dari data\n",
        "df_xlsx.head()"
      ],
      "execution_count": null,
      "outputs": [
        {
          "output_type": "execute_result",
          "data": {
            "text/html": [
              "<div>\n",
              "<style scoped>\n",
              "    .dataframe tbody tr th:only-of-type {\n",
              "        vertical-align: middle;\n",
              "    }\n",
              "\n",
              "    .dataframe tbody tr th {\n",
              "        vertical-align: top;\n",
              "    }\n",
              "\n",
              "    .dataframe thead th {\n",
              "        text-align: right;\n",
              "    }\n",
              "</style>\n",
              "<table border=\"1\" class=\"dataframe\">\n",
              "  <thead>\n",
              "    <tr style=\"text-align: right;\">\n",
              "      <th></th>\n",
              "      <th>InvoiceNo</th>\n",
              "      <th>StockCode</th>\n",
              "      <th>Description</th>\n",
              "      <th>Quantity</th>\n",
              "      <th>InvoiceDate</th>\n",
              "      <th>UnitPrice</th>\n",
              "      <th>CustomerID</th>\n",
              "      <th>Country</th>\n",
              "    </tr>\n",
              "  </thead>\n",
              "  <tbody>\n",
              "    <tr>\n",
              "      <th>0</th>\n",
              "      <td>536365</td>\n",
              "      <td>85123A</td>\n",
              "      <td>WHITE HANGING HEART T-LIGHT HOLDER</td>\n",
              "      <td>6</td>\n",
              "      <td>2010-01-12 08:26:00</td>\n",
              "      <td>2.55</td>\n",
              "      <td>17850.0</td>\n",
              "      <td>United Kingdom</td>\n",
              "    </tr>\n",
              "    <tr>\n",
              "      <th>1</th>\n",
              "      <td>536365</td>\n",
              "      <td>71053</td>\n",
              "      <td>WHITE METAL LANTERN</td>\n",
              "      <td>6</td>\n",
              "      <td>2010-01-12 08:26:00</td>\n",
              "      <td>3.39</td>\n",
              "      <td>17850.0</td>\n",
              "      <td>United Kingdom</td>\n",
              "    </tr>\n",
              "    <tr>\n",
              "      <th>2</th>\n",
              "      <td>536365</td>\n",
              "      <td>84406B</td>\n",
              "      <td>CREAM CUPID HEARTS COAT HANGER</td>\n",
              "      <td>8</td>\n",
              "      <td>2010-01-12 08:26:00</td>\n",
              "      <td>2.75</td>\n",
              "      <td>17850.0</td>\n",
              "      <td>United Kingdom</td>\n",
              "    </tr>\n",
              "    <tr>\n",
              "      <th>3</th>\n",
              "      <td>536365</td>\n",
              "      <td>84029G</td>\n",
              "      <td>KNITTED UNION FLAG HOT WATER BOTTLE</td>\n",
              "      <td>6</td>\n",
              "      <td>2010-01-12 08:26:00</td>\n",
              "      <td>3.39</td>\n",
              "      <td>17850.0</td>\n",
              "      <td>United Kingdom</td>\n",
              "    </tr>\n",
              "    <tr>\n",
              "      <th>4</th>\n",
              "      <td>536365</td>\n",
              "      <td>84029E</td>\n",
              "      <td>RED WOOLLY HOTTIE WHITE HEART.</td>\n",
              "      <td>6</td>\n",
              "      <td>2010-01-12 08:26:00</td>\n",
              "      <td>3.39</td>\n",
              "      <td>17850.0</td>\n",
              "      <td>United Kingdom</td>\n",
              "    </tr>\n",
              "  </tbody>\n",
              "</table>\n",
              "</div>"
            ],
            "text/plain": [
              "  InvoiceNo StockCode  ... CustomerID         Country\n",
              "0    536365    85123A  ...    17850.0  United Kingdom\n",
              "1    536365     71053  ...    17850.0  United Kingdom\n",
              "2    536365    84406B  ...    17850.0  United Kingdom\n",
              "3    536365    84029G  ...    17850.0  United Kingdom\n",
              "4    536365    84029E  ...    17850.0  United Kingdom\n",
              "\n",
              "[5 rows x 8 columns]"
            ]
          },
          "metadata": {
            "tags": []
          },
          "execution_count": 13
        }
      ]
    },
    {
      "cell_type": "markdown",
      "metadata": {
        "id": "-LRprvZk805-"
      },
      "source": [
        "langkah sebelumnya merupakan langkah membaca file data dengan menggunakan 2 format data yang berbeda. Untuk langkah selanjutnya akan digunakan csv data\n",
        "\n",
        "\n",
        "\n",
        ">*Sebagai catatan, jika ingin mencoba pada data excel masih tetap dapat melakukannya seperti langkah-langkah dibawah ini. Perbedaan format data hanya di proses awal pembacaan datanya saja.*\n",
        "\n"
      ]
    },
    {
      "cell_type": "markdown",
      "metadata": {
        "id": "ApfTbgh-fp1v"
      },
      "source": [
        "# EDA (Exploratory Data Analysis)\n",
        "Secara garis besar, EDA adalah suatu proses dalam menganalis data yang dimiliki, contohnya melihat pola data, informasi data, menemukan anomali dari data, dan beberapa analis statistik lainnya.\n",
        "\n",
        "- jika EDA dilakukan sebelum cleaning berfungsi untuk mengetahui data yang bermasalah, untuk membersihkan\n",
        "\n",
        "- jika EDA dilakukan sesudah cleaning berfungsi untuk menggali insight lain yang lebih dalam atau jauh lagi"
      ]
    },
    {
      "cell_type": "markdown",
      "metadata": {
        "id": "F49fY-T7gOQX"
      },
      "source": [
        "## Data terdiri dari berapa baris dan berapa kolom?"
      ]
    },
    {
      "cell_type": "code",
      "metadata": {
        "colab": {
          "base_uri": "https://localhost:8080/"
        },
        "id": "OWWYo2JlfiEl",
        "outputId": "0906ac38-25b9-4a3a-a72e-c08148886e5e"
      },
      "source": [
        "# Mencari ukuran data\n",
        "df.shape"
      ],
      "execution_count": null,
      "outputs": [
        {
          "output_type": "execute_result",
          "data": {
            "text/plain": [
              "(541909, 8)"
            ]
          },
          "metadata": {
            "tags": []
          },
          "execution_count": 14
        }
      ]
    },
    {
      "cell_type": "markdown",
      "metadata": {
        "id": "8fjgHOaKgtFT"
      },
      "source": [
        "## Bagaimana kondisi datanya? Bermasalah atau tidak?"
      ]
    },
    {
      "cell_type": "code",
      "metadata": {
        "colab": {
          "base_uri": "https://localhost:8080/"
        },
        "id": "Sn9wUCu4gpT8",
        "outputId": "52d4b0dd-6f8a-4297-9c93-f7b15f6580a1"
      },
      "source": [
        "# Melihat informasi data\n",
        "df.info()\n",
        "\n",
        "# dtype untuk menunjukkan tipe data, "
      ],
      "execution_count": null,
      "outputs": [
        {
          "output_type": "stream",
          "text": [
            "<class 'pandas.core.frame.DataFrame'>\n",
            "RangeIndex: 541909 entries, 0 to 541908\n",
            "Data columns (total 8 columns):\n",
            " #   Column       Non-Null Count   Dtype  \n",
            "---  ------       --------------   -----  \n",
            " 0   InvoiceNo    541909 non-null  object \n",
            " 1   StockCode    541909 non-null  object \n",
            " 2   Description  540455 non-null  object \n",
            " 3   Quantity     541909 non-null  int64  \n",
            " 4   InvoiceDate  541909 non-null  object \n",
            " 5   UnitPrice    541909 non-null  float64\n",
            " 6   CustomerID   406829 non-null  float64\n",
            " 7   Country      541909 non-null  object \n",
            "dtypes: float64(2), int64(1), object(5)\n",
            "memory usage: 33.1+ MB\n"
          ],
          "name": "stdout"
        }
      ]
    },
    {
      "cell_type": "markdown",
      "metadata": {
        "id": "Sgn9_IqS-QMk"
      },
      "source": [
        "Data informasi berisi mengenai jumlah baris dalam data, nama-nama kolom dan jumlah element dari kolom tersebut, serta tipe data dan masing-masing kolom. Mengetahui informasi dari data akan memudahkan anda untuk mencari tahu apa saja yang perlu anda lakukan seperti merubah format data, melakukan manipulasi dalam data."
      ]
    },
    {
      "cell_type": "markdown",
      "metadata": {
        "id": "eewBOy0192yB"
      },
      "source": [
        "invoice date tipenya object (string) tetapi harusnya berbentuk datetime (karna berupa tanggal dan ada waktunya)\n",
        "customer id tipenya float (didatabase biasanya int) tetapi untuk kebutuhan harusnya diubah menjadi berbentuk object karena customer id tidak akan diagregasi (sum,avirage dkk), lebih tepatnya di count oleh karena itu ubah menjadi object\n",
        "\n",
        "* olah karena itu dilihat dari info tersebut, \n",
        "terdapat 2 masalah:\n",
        "1. missing value dari non-null\n",
        "2. tipe data masih belum benar"
      ]
    },
    {
      "cell_type": "markdown",
      "metadata": {
        "id": "M7O9iZvIium2"
      },
      "source": [
        "# Pre-processig Data\n",
        "jika sudah tahu masalah apa saja, kemudian atasi masalah tersebut"
      ]
    },
    {
      "cell_type": "markdown",
      "metadata": {
        "id": "tU-kIacKjBlF"
      },
      "source": [
        "## Apakah ada Missing Value?\n",
        "\n",
        "cara untuk menghapus data, liat kebutuhannya. Jangan asal hapus data, karena itu juga sebuah informasi. Menghapus data berdasarkan tujuan.\n",
        "\n",
        "Jika dilihat kebutuhannya lagi berdasarkan dataset yang dimiliki:\n",
        "1. Kolom nilai CustomerID tidak valid. \n",
        "* Karena jika nilai CustomerID bolong siapa yang akan melakukan transaksi, aneh karena kok bisa masuk sistem padahal datanya bolong?. \n",
        "* Solusinya adalah menghapus. Kenapa dihapus? karena kolom CustomerID berisi id para pelanggan jadi tidak dapat disubstitusi/isi karena kita sendiri tidak tahu siapa yang transaksi jika semuanya bolong.\n",
        "\n",
        "2. Kolom Description juga dihapus, karena jika tidak ada deskripsi atau nama produknya. Tidak valid karena tidak mungkin barang tidak berwujud."
      ]
    },
    {
      "cell_type": "code",
      "metadata": {
        "colab": {
          "base_uri": "https://localhost:8080/"
        },
        "id": "x6nyxy2ZjA5V",
        "outputId": "cf7f7bc0-e8a9-4e57-8372-7fc5ab43ba55"
      },
      "source": [
        "# Cek missing value\n",
        "df.isnull().sum()"
      ],
      "execution_count": null,
      "outputs": [
        {
          "output_type": "execute_result",
          "data": {
            "text/plain": [
              "InvoiceNo           0\n",
              "StockCode           0\n",
              "Description      1454\n",
              "Quantity            0\n",
              "InvoiceDate         0\n",
              "UnitPrice           0\n",
              "CustomerID     135080\n",
              "Country             0\n",
              "dtype: int64"
            ]
          },
          "metadata": {
            "tags": []
          },
          "execution_count": 16
        }
      ]
    },
    {
      "cell_type": "markdown",
      "metadata": {
        "id": "tHFf6CcM-0Vv"
      },
      "source": [
        "Berdasarkan output diatas diketahu bahwa terdapat missing value pada kolom \"Description\" dan \"CustomerID\", oleh karena itu perlu dilakukan cleaning pada kolom tersebut. Salah satu cara handling missing value adalah drop data yang miss."
      ]
    },
    {
      "cell_type": "markdown",
      "metadata": {
        "id": "nDAMDjT6zTeV"
      },
      "source": [
        "dalam kasus dataset ini yang dihapus barisnya atau axis=0, bukan kolom/axis=1. Jika CustomerID atau Descriptionnya dihapus itu tidak mungkin dalam kasus dataset ini karena nanti kedepannya kita tidak tahu produk apa yang sudah terjual. Jadi yang dihapus barisnya saja."
      ]
    },
    {
      "cell_type": "code",
      "metadata": {
        "id": "6LonmO36hHMB"
      },
      "source": [
        "# Handling missing value dengan drop data\n",
        "df = df.dropna(axis=0, how='any')"
      ],
      "execution_count": null,
      "outputs": []
    },
    {
      "cell_type": "code",
      "metadata": {
        "colab": {
          "base_uri": "https://localhost:8080/",
          "height": 203
        },
        "id": "sKZEwv2N0UXt",
        "outputId": "82c3c221-3b03-4cfa-b93c-4b90eac7bf9c"
      },
      "source": [
        "df.head()"
      ],
      "execution_count": null,
      "outputs": [
        {
          "output_type": "execute_result",
          "data": {
            "text/html": [
              "<div>\n",
              "<style scoped>\n",
              "    .dataframe tbody tr th:only-of-type {\n",
              "        vertical-align: middle;\n",
              "    }\n",
              "\n",
              "    .dataframe tbody tr th {\n",
              "        vertical-align: top;\n",
              "    }\n",
              "\n",
              "    .dataframe thead th {\n",
              "        text-align: right;\n",
              "    }\n",
              "</style>\n",
              "<table border=\"1\" class=\"dataframe\">\n",
              "  <thead>\n",
              "    <tr style=\"text-align: right;\">\n",
              "      <th></th>\n",
              "      <th>InvoiceNo</th>\n",
              "      <th>StockCode</th>\n",
              "      <th>Description</th>\n",
              "      <th>Quantity</th>\n",
              "      <th>InvoiceDate</th>\n",
              "      <th>UnitPrice</th>\n",
              "      <th>CustomerID</th>\n",
              "      <th>Country</th>\n",
              "    </tr>\n",
              "  </thead>\n",
              "  <tbody>\n",
              "    <tr>\n",
              "      <th>0</th>\n",
              "      <td>536365</td>\n",
              "      <td>85123A</td>\n",
              "      <td>WHITE HANGING HEART T-LIGHT HOLDER</td>\n",
              "      <td>6</td>\n",
              "      <td>01-12-2010 08:26</td>\n",
              "      <td>2.55</td>\n",
              "      <td>17850.0</td>\n",
              "      <td>United Kingdom</td>\n",
              "    </tr>\n",
              "    <tr>\n",
              "      <th>1</th>\n",
              "      <td>536365</td>\n",
              "      <td>71053</td>\n",
              "      <td>WHITE METAL LANTERN</td>\n",
              "      <td>6</td>\n",
              "      <td>01-12-2010 08:26</td>\n",
              "      <td>3.39</td>\n",
              "      <td>17850.0</td>\n",
              "      <td>United Kingdom</td>\n",
              "    </tr>\n",
              "    <tr>\n",
              "      <th>2</th>\n",
              "      <td>536365</td>\n",
              "      <td>84406B</td>\n",
              "      <td>CREAM CUPID HEARTS COAT HANGER</td>\n",
              "      <td>8</td>\n",
              "      <td>01-12-2010 08:26</td>\n",
              "      <td>2.75</td>\n",
              "      <td>17850.0</td>\n",
              "      <td>United Kingdom</td>\n",
              "    </tr>\n",
              "    <tr>\n",
              "      <th>3</th>\n",
              "      <td>536365</td>\n",
              "      <td>84029G</td>\n",
              "      <td>KNITTED UNION FLAG HOT WATER BOTTLE</td>\n",
              "      <td>6</td>\n",
              "      <td>01-12-2010 08:26</td>\n",
              "      <td>3.39</td>\n",
              "      <td>17850.0</td>\n",
              "      <td>United Kingdom</td>\n",
              "    </tr>\n",
              "    <tr>\n",
              "      <th>4</th>\n",
              "      <td>536365</td>\n",
              "      <td>84029E</td>\n",
              "      <td>RED WOOLLY HOTTIE WHITE HEART.</td>\n",
              "      <td>6</td>\n",
              "      <td>01-12-2010 08:26</td>\n",
              "      <td>3.39</td>\n",
              "      <td>17850.0</td>\n",
              "      <td>United Kingdom</td>\n",
              "    </tr>\n",
              "  </tbody>\n",
              "</table>\n",
              "</div>"
            ],
            "text/plain": [
              "  InvoiceNo StockCode  ... CustomerID         Country\n",
              "0    536365    85123A  ...    17850.0  United Kingdom\n",
              "1    536365     71053  ...    17850.0  United Kingdom\n",
              "2    536365    84406B  ...    17850.0  United Kingdom\n",
              "3    536365    84029G  ...    17850.0  United Kingdom\n",
              "4    536365    84029E  ...    17850.0  United Kingdom\n",
              "\n",
              "[5 rows x 8 columns]"
            ]
          },
          "metadata": {
            "tags": []
          },
          "execution_count": 19
        }
      ]
    },
    {
      "cell_type": "code",
      "metadata": {
        "colab": {
          "base_uri": "https://localhost:8080/"
        },
        "id": "5U79wbRA0W-1",
        "outputId": "e4e47d4c-16e5-46cf-ecf9-a9fc2bb11ef0"
      },
      "source": [
        "# Cek kembali missing value\n",
        "df.isnull().sum()"
      ],
      "execution_count": null,
      "outputs": [
        {
          "output_type": "execute_result",
          "data": {
            "text/plain": [
              "InvoiceNo      0\n",
              "StockCode      0\n",
              "Description    0\n",
              "Quantity       0\n",
              "InvoiceDate    0\n",
              "UnitPrice      0\n",
              "CustomerID     0\n",
              "Country        0\n",
              "dtype: int64"
            ]
          },
          "metadata": {
            "tags": []
          },
          "execution_count": 20
        }
      ]
    },
    {
      "cell_type": "code",
      "metadata": {
        "colab": {
          "base_uri": "https://localhost:8080/"
        },
        "id": "RvnYUuvR1eUX",
        "outputId": "b652f67e-a8c7-400d-b5fd-5ebc65bab2c2"
      },
      "source": [
        "# cek keseluruhan data masih ada yang kosong lagi atau tidak\n",
        "df.info()"
      ],
      "execution_count": null,
      "outputs": [
        {
          "output_type": "stream",
          "text": [
            "<class 'pandas.core.frame.DataFrame'>\n",
            "Int64Index: 406829 entries, 0 to 541908\n",
            "Data columns (total 8 columns):\n",
            " #   Column       Non-Null Count   Dtype  \n",
            "---  ------       --------------   -----  \n",
            " 0   InvoiceNo    406829 non-null  object \n",
            " 1   StockCode    406829 non-null  object \n",
            " 2   Description  406829 non-null  object \n",
            " 3   Quantity     406829 non-null  int64  \n",
            " 4   InvoiceDate  406829 non-null  object \n",
            " 5   UnitPrice    406829 non-null  float64\n",
            " 6   CustomerID   406829 non-null  float64\n",
            " 7   Country      406829 non-null  object \n",
            "dtypes: float64(2), int64(1), object(5)\n",
            "memory usage: 27.9+ MB\n"
          ],
          "name": "stdout"
        }
      ]
    },
    {
      "cell_type": "markdown",
      "metadata": {
        "id": "g2WaJWhY6V4o"
      },
      "source": [
        "## Apakah ada Data Duplicate?\n",
        "\n",
        "Mengecek data yang duplikat adalah salah satu proses penting dalam cleaning data. Duplikat data akan menjadikan analisa menjadi kurang valid dikarenakan terlalu banyak data yang seragam."
      ]
    },
    {
      "cell_type": "code",
      "metadata": {
        "colab": {
          "base_uri": "https://localhost:8080/",
          "height": 419
        },
        "id": "thHYlXjC2Kye",
        "outputId": "5bd8de98-a721-42b2-85fb-e3142d7bac79"
      },
      "source": [
        "# Mencari duplicate data\n",
        "duplicate = df[df.duplicated()]\n",
        "\n",
        "# Display data yang duplicate\n",
        "duplicate            "
      ],
      "execution_count": null,
      "outputs": [
        {
          "output_type": "execute_result",
          "data": {
            "text/html": [
              "<div>\n",
              "<style scoped>\n",
              "    .dataframe tbody tr th:only-of-type {\n",
              "        vertical-align: middle;\n",
              "    }\n",
              "\n",
              "    .dataframe tbody tr th {\n",
              "        vertical-align: top;\n",
              "    }\n",
              "\n",
              "    .dataframe thead th {\n",
              "        text-align: right;\n",
              "    }\n",
              "</style>\n",
              "<table border=\"1\" class=\"dataframe\">\n",
              "  <thead>\n",
              "    <tr style=\"text-align: right;\">\n",
              "      <th></th>\n",
              "      <th>InvoiceNo</th>\n",
              "      <th>StockCode</th>\n",
              "      <th>Description</th>\n",
              "      <th>Quantity</th>\n",
              "      <th>InvoiceDate</th>\n",
              "      <th>UnitPrice</th>\n",
              "      <th>CustomerID</th>\n",
              "      <th>Country</th>\n",
              "    </tr>\n",
              "  </thead>\n",
              "  <tbody>\n",
              "    <tr>\n",
              "      <th>517</th>\n",
              "      <td>536409</td>\n",
              "      <td>21866</td>\n",
              "      <td>UNION JACK FLAG LUGGAGE TAG</td>\n",
              "      <td>1</td>\n",
              "      <td>01-12-2010 11:45</td>\n",
              "      <td>1.25</td>\n",
              "      <td>17908.0</td>\n",
              "      <td>United Kingdom</td>\n",
              "    </tr>\n",
              "    <tr>\n",
              "      <th>527</th>\n",
              "      <td>536409</td>\n",
              "      <td>22866</td>\n",
              "      <td>HAND WARMER SCOTTY DOG DESIGN</td>\n",
              "      <td>1</td>\n",
              "      <td>01-12-2010 11:45</td>\n",
              "      <td>2.10</td>\n",
              "      <td>17908.0</td>\n",
              "      <td>United Kingdom</td>\n",
              "    </tr>\n",
              "    <tr>\n",
              "      <th>537</th>\n",
              "      <td>536409</td>\n",
              "      <td>22900</td>\n",
              "      <td>SET 2 TEA TOWELS I LOVE LONDON</td>\n",
              "      <td>1</td>\n",
              "      <td>01-12-2010 11:45</td>\n",
              "      <td>2.95</td>\n",
              "      <td>17908.0</td>\n",
              "      <td>United Kingdom</td>\n",
              "    </tr>\n",
              "    <tr>\n",
              "      <th>539</th>\n",
              "      <td>536409</td>\n",
              "      <td>22111</td>\n",
              "      <td>SCOTTIE DOG HOT WATER BOTTLE</td>\n",
              "      <td>1</td>\n",
              "      <td>01-12-2010 11:45</td>\n",
              "      <td>4.95</td>\n",
              "      <td>17908.0</td>\n",
              "      <td>United Kingdom</td>\n",
              "    </tr>\n",
              "    <tr>\n",
              "      <th>555</th>\n",
              "      <td>536412</td>\n",
              "      <td>22327</td>\n",
              "      <td>ROUND SNACK BOXES SET OF 4 SKULLS</td>\n",
              "      <td>1</td>\n",
              "      <td>01-12-2010 11:49</td>\n",
              "      <td>2.95</td>\n",
              "      <td>17920.0</td>\n",
              "      <td>United Kingdom</td>\n",
              "    </tr>\n",
              "    <tr>\n",
              "      <th>...</th>\n",
              "      <td>...</td>\n",
              "      <td>...</td>\n",
              "      <td>...</td>\n",
              "      <td>...</td>\n",
              "      <td>...</td>\n",
              "      <td>...</td>\n",
              "      <td>...</td>\n",
              "      <td>...</td>\n",
              "    </tr>\n",
              "    <tr>\n",
              "      <th>541675</th>\n",
              "      <td>581538</td>\n",
              "      <td>22068</td>\n",
              "      <td>BLACK PIRATE TREASURE CHEST</td>\n",
              "      <td>1</td>\n",
              "      <td>09-12-2011 11:34</td>\n",
              "      <td>0.39</td>\n",
              "      <td>14446.0</td>\n",
              "      <td>United Kingdom</td>\n",
              "    </tr>\n",
              "    <tr>\n",
              "      <th>541689</th>\n",
              "      <td>581538</td>\n",
              "      <td>23318</td>\n",
              "      <td>BOX OF 6 MINI VINTAGE CRACKERS</td>\n",
              "      <td>1</td>\n",
              "      <td>09-12-2011 11:34</td>\n",
              "      <td>2.49</td>\n",
              "      <td>14446.0</td>\n",
              "      <td>United Kingdom</td>\n",
              "    </tr>\n",
              "    <tr>\n",
              "      <th>541692</th>\n",
              "      <td>581538</td>\n",
              "      <td>22992</td>\n",
              "      <td>REVOLVER WOODEN RULER</td>\n",
              "      <td>1</td>\n",
              "      <td>09-12-2011 11:34</td>\n",
              "      <td>1.95</td>\n",
              "      <td>14446.0</td>\n",
              "      <td>United Kingdom</td>\n",
              "    </tr>\n",
              "    <tr>\n",
              "      <th>541699</th>\n",
              "      <td>581538</td>\n",
              "      <td>22694</td>\n",
              "      <td>WICKER STAR</td>\n",
              "      <td>1</td>\n",
              "      <td>09-12-2011 11:34</td>\n",
              "      <td>2.10</td>\n",
              "      <td>14446.0</td>\n",
              "      <td>United Kingdom</td>\n",
              "    </tr>\n",
              "    <tr>\n",
              "      <th>541701</th>\n",
              "      <td>581538</td>\n",
              "      <td>23343</td>\n",
              "      <td>JUMBO BAG VINTAGE CHRISTMAS</td>\n",
              "      <td>1</td>\n",
              "      <td>09-12-2011 11:34</td>\n",
              "      <td>2.08</td>\n",
              "      <td>14446.0</td>\n",
              "      <td>United Kingdom</td>\n",
              "    </tr>\n",
              "  </tbody>\n",
              "</table>\n",
              "<p>5225 rows × 8 columns</p>\n",
              "</div>"
            ],
            "text/plain": [
              "       InvoiceNo StockCode  ... CustomerID         Country\n",
              "517       536409     21866  ...    17908.0  United Kingdom\n",
              "527       536409     22866  ...    17908.0  United Kingdom\n",
              "537       536409     22900  ...    17908.0  United Kingdom\n",
              "539       536409     22111  ...    17908.0  United Kingdom\n",
              "555       536412     22327  ...    17920.0  United Kingdom\n",
              "...          ...       ...  ...        ...             ...\n",
              "541675    581538     22068  ...    14446.0  United Kingdom\n",
              "541689    581538     23318  ...    14446.0  United Kingdom\n",
              "541692    581538     22992  ...    14446.0  United Kingdom\n",
              "541699    581538     22694  ...    14446.0  United Kingdom\n",
              "541701    581538     23343  ...    14446.0  United Kingdom\n",
              "\n",
              "[5225 rows x 8 columns]"
            ]
          },
          "metadata": {
            "tags": []
          },
          "execution_count": 23
        }
      ]
    },
    {
      "cell_type": "code",
      "metadata": {
        "id": "hU4QRDmc62bz"
      },
      "source": [
        "# Handling duplicate data\n",
        "df = df.drop_duplicates()"
      ],
      "execution_count": null,
      "outputs": []
    },
    {
      "cell_type": "code",
      "metadata": {
        "colab": {
          "base_uri": "https://localhost:8080/",
          "height": 419
        },
        "id": "aZUxpfbWAHha",
        "outputId": "383d8698-b128-488c-a970-181a032c6a14"
      },
      "source": [
        "df"
      ],
      "execution_count": null,
      "outputs": [
        {
          "output_type": "execute_result",
          "data": {
            "text/html": [
              "<div>\n",
              "<style scoped>\n",
              "    .dataframe tbody tr th:only-of-type {\n",
              "        vertical-align: middle;\n",
              "    }\n",
              "\n",
              "    .dataframe tbody tr th {\n",
              "        vertical-align: top;\n",
              "    }\n",
              "\n",
              "    .dataframe thead th {\n",
              "        text-align: right;\n",
              "    }\n",
              "</style>\n",
              "<table border=\"1\" class=\"dataframe\">\n",
              "  <thead>\n",
              "    <tr style=\"text-align: right;\">\n",
              "      <th></th>\n",
              "      <th>InvoiceNo</th>\n",
              "      <th>StockCode</th>\n",
              "      <th>Description</th>\n",
              "      <th>Quantity</th>\n",
              "      <th>InvoiceDate</th>\n",
              "      <th>UnitPrice</th>\n",
              "      <th>CustomerID</th>\n",
              "      <th>Country</th>\n",
              "    </tr>\n",
              "  </thead>\n",
              "  <tbody>\n",
              "    <tr>\n",
              "      <th>0</th>\n",
              "      <td>536365</td>\n",
              "      <td>85123A</td>\n",
              "      <td>WHITE HANGING HEART T-LIGHT HOLDER</td>\n",
              "      <td>6</td>\n",
              "      <td>01-12-2010 08:26</td>\n",
              "      <td>2.55</td>\n",
              "      <td>17850.0</td>\n",
              "      <td>United Kingdom</td>\n",
              "    </tr>\n",
              "    <tr>\n",
              "      <th>1</th>\n",
              "      <td>536365</td>\n",
              "      <td>71053</td>\n",
              "      <td>WHITE METAL LANTERN</td>\n",
              "      <td>6</td>\n",
              "      <td>01-12-2010 08:26</td>\n",
              "      <td>3.39</td>\n",
              "      <td>17850.0</td>\n",
              "      <td>United Kingdom</td>\n",
              "    </tr>\n",
              "    <tr>\n",
              "      <th>2</th>\n",
              "      <td>536365</td>\n",
              "      <td>84406B</td>\n",
              "      <td>CREAM CUPID HEARTS COAT HANGER</td>\n",
              "      <td>8</td>\n",
              "      <td>01-12-2010 08:26</td>\n",
              "      <td>2.75</td>\n",
              "      <td>17850.0</td>\n",
              "      <td>United Kingdom</td>\n",
              "    </tr>\n",
              "    <tr>\n",
              "      <th>3</th>\n",
              "      <td>536365</td>\n",
              "      <td>84029G</td>\n",
              "      <td>KNITTED UNION FLAG HOT WATER BOTTLE</td>\n",
              "      <td>6</td>\n",
              "      <td>01-12-2010 08:26</td>\n",
              "      <td>3.39</td>\n",
              "      <td>17850.0</td>\n",
              "      <td>United Kingdom</td>\n",
              "    </tr>\n",
              "    <tr>\n",
              "      <th>4</th>\n",
              "      <td>536365</td>\n",
              "      <td>84029E</td>\n",
              "      <td>RED WOOLLY HOTTIE WHITE HEART.</td>\n",
              "      <td>6</td>\n",
              "      <td>01-12-2010 08:26</td>\n",
              "      <td>3.39</td>\n",
              "      <td>17850.0</td>\n",
              "      <td>United Kingdom</td>\n",
              "    </tr>\n",
              "    <tr>\n",
              "      <th>...</th>\n",
              "      <td>...</td>\n",
              "      <td>...</td>\n",
              "      <td>...</td>\n",
              "      <td>...</td>\n",
              "      <td>...</td>\n",
              "      <td>...</td>\n",
              "      <td>...</td>\n",
              "      <td>...</td>\n",
              "    </tr>\n",
              "    <tr>\n",
              "      <th>541904</th>\n",
              "      <td>581587</td>\n",
              "      <td>22613</td>\n",
              "      <td>PACK OF 20 SPACEBOY NAPKINS</td>\n",
              "      <td>12</td>\n",
              "      <td>09-12-2011 12:50</td>\n",
              "      <td>0.85</td>\n",
              "      <td>12680.0</td>\n",
              "      <td>France</td>\n",
              "    </tr>\n",
              "    <tr>\n",
              "      <th>541905</th>\n",
              "      <td>581587</td>\n",
              "      <td>22899</td>\n",
              "      <td>CHILDREN'S APRON DOLLY GIRL</td>\n",
              "      <td>6</td>\n",
              "      <td>09-12-2011 12:50</td>\n",
              "      <td>2.10</td>\n",
              "      <td>12680.0</td>\n",
              "      <td>France</td>\n",
              "    </tr>\n",
              "    <tr>\n",
              "      <th>541906</th>\n",
              "      <td>581587</td>\n",
              "      <td>23254</td>\n",
              "      <td>CHILDRENS CUTLERY DOLLY GIRL</td>\n",
              "      <td>4</td>\n",
              "      <td>09-12-2011 12:50</td>\n",
              "      <td>4.15</td>\n",
              "      <td>12680.0</td>\n",
              "      <td>France</td>\n",
              "    </tr>\n",
              "    <tr>\n",
              "      <th>541907</th>\n",
              "      <td>581587</td>\n",
              "      <td>23255</td>\n",
              "      <td>CHILDRENS CUTLERY CIRCUS PARADE</td>\n",
              "      <td>4</td>\n",
              "      <td>09-12-2011 12:50</td>\n",
              "      <td>4.15</td>\n",
              "      <td>12680.0</td>\n",
              "      <td>France</td>\n",
              "    </tr>\n",
              "    <tr>\n",
              "      <th>541908</th>\n",
              "      <td>581587</td>\n",
              "      <td>22138</td>\n",
              "      <td>BAKING SET 9 PIECE RETROSPOT</td>\n",
              "      <td>3</td>\n",
              "      <td>09-12-2011 12:50</td>\n",
              "      <td>4.95</td>\n",
              "      <td>12680.0</td>\n",
              "      <td>France</td>\n",
              "    </tr>\n",
              "  </tbody>\n",
              "</table>\n",
              "<p>401604 rows × 8 columns</p>\n",
              "</div>"
            ],
            "text/plain": [
              "       InvoiceNo StockCode  ... CustomerID         Country\n",
              "0         536365    85123A  ...    17850.0  United Kingdom\n",
              "1         536365     71053  ...    17850.0  United Kingdom\n",
              "2         536365    84406B  ...    17850.0  United Kingdom\n",
              "3         536365    84029G  ...    17850.0  United Kingdom\n",
              "4         536365    84029E  ...    17850.0  United Kingdom\n",
              "...          ...       ...  ...        ...             ...\n",
              "541904    581587     22613  ...    12680.0          France\n",
              "541905    581587     22899  ...    12680.0          France\n",
              "541906    581587     23254  ...    12680.0          France\n",
              "541907    581587     23255  ...    12680.0          France\n",
              "541908    581587     22138  ...    12680.0          France\n",
              "\n",
              "[401604 rows x 8 columns]"
            ]
          },
          "metadata": {
            "tags": []
          },
          "execution_count": 25
        }
      ]
    },
    {
      "cell_type": "markdown",
      "metadata": {
        "id": "XDP0CiYqAaUp"
      },
      "source": [
        "## Ubah Tipe Data\n",
        "\n",
        "Dalam beberapa kasus terkadang dijumpai beberapa data yang memiliki tipe data yang kurang sesuai dengan yang dibutuhkan. Oleh karena itu, pengubahan tipe data sangat diperlukan.\n",
        "\n",
        "* Ada beberapa tipe data yang masih kurang sesuai:\n",
        "1. InvoiceDate harusnya datetime bukan object. Perlu diubah untuk keperluan analisis (chart, dapat mengetahui trendnya)"
      ]
    },
    {
      "cell_type": "code",
      "metadata": {
        "colab": {
          "base_uri": "https://localhost:8080/"
        },
        "id": "aLUr3LyjAIv_",
        "outputId": "f8e17aeb-bc3e-41a8-eea9-607ffb208003"
      },
      "source": [
        "# Mengubah tipe data 'InvoiceDate' kedalam bentuk Datetime\n",
        "df['InvoiceDate'] = pd.to_datetime(df['InvoiceDate'])"
      ],
      "execution_count": null,
      "outputs": [
        {
          "output_type": "stream",
          "text": [
            "/usr/local/lib/python3.7/dist-packages/ipykernel_launcher.py:2: SettingWithCopyWarning: \n",
            "A value is trying to be set on a copy of a slice from a DataFrame.\n",
            "Try using .loc[row_indexer,col_indexer] = value instead\n",
            "\n",
            "See the caveats in the documentation: https://pandas.pydata.org/pandas-docs/stable/user_guide/indexing.html#returning-a-view-versus-a-copy\n",
            "  \n"
          ],
          "name": "stderr"
        }
      ]
    },
    {
      "cell_type": "code",
      "metadata": {
        "colab": {
          "base_uri": "https://localhost:8080/"
        },
        "id": "DphnROQqSgn3",
        "outputId": "8e009694-7d28-4d27-ac8f-9e904e20d83a"
      },
      "source": [
        "# Mengubah tipe data 'CustomerId' kedalam bentuk Non-Metric atau string\n",
        "df['CustomerID'] = df['CustomerID'].astype(int).astype(str)"
      ],
      "execution_count": null,
      "outputs": [
        {
          "output_type": "stream",
          "text": [
            "/usr/local/lib/python3.7/dist-packages/ipykernel_launcher.py:2: SettingWithCopyWarning: \n",
            "A value is trying to be set on a copy of a slice from a DataFrame.\n",
            "Try using .loc[row_indexer,col_indexer] = value instead\n",
            "\n",
            "See the caveats in the documentation: https://pandas.pydata.org/pandas-docs/stable/user_guide/indexing.html#returning-a-view-versus-a-copy\n",
            "  \n"
          ],
          "name": "stderr"
        }
      ]
    },
    {
      "cell_type": "code",
      "metadata": {
        "colab": {
          "base_uri": "https://localhost:8080/"
        },
        "id": "urwX-mkvSZWv",
        "outputId": "73eb1866-10c6-4d57-fb01-2593b39e0214"
      },
      "source": [
        "# Mengecek kembali informasi dari data\n",
        "df.info()"
      ],
      "execution_count": null,
      "outputs": [
        {
          "output_type": "stream",
          "text": [
            "<class 'pandas.core.frame.DataFrame'>\n",
            "Int64Index: 401604 entries, 0 to 541908\n",
            "Data columns (total 8 columns):\n",
            " #   Column       Non-Null Count   Dtype         \n",
            "---  ------       --------------   -----         \n",
            " 0   InvoiceNo    401604 non-null  object        \n",
            " 1   StockCode    401604 non-null  object        \n",
            " 2   Description  401604 non-null  object        \n",
            " 3   Quantity     401604 non-null  int64         \n",
            " 4   InvoiceDate  401604 non-null  datetime64[ns]\n",
            " 5   UnitPrice    401604 non-null  float64       \n",
            " 6   CustomerID   401604 non-null  object        \n",
            " 7   Country      401604 non-null  object        \n",
            "dtypes: datetime64[ns](1), float64(1), int64(1), object(5)\n",
            "memory usage: 27.6+ MB\n"
          ],
          "name": "stdout"
        }
      ]
    },
    {
      "cell_type": "code",
      "metadata": {
        "colab": {
          "base_uri": "https://localhost:8080/",
          "height": 203
        },
        "id": "uAkK6bQmSegk",
        "outputId": "6692a1fd-3bbe-494d-85e3-bfaedbaa1e54"
      },
      "source": [
        "df.head()"
      ],
      "execution_count": null,
      "outputs": [
        {
          "output_type": "execute_result",
          "data": {
            "text/html": [
              "<div>\n",
              "<style scoped>\n",
              "    .dataframe tbody tr th:only-of-type {\n",
              "        vertical-align: middle;\n",
              "    }\n",
              "\n",
              "    .dataframe tbody tr th {\n",
              "        vertical-align: top;\n",
              "    }\n",
              "\n",
              "    .dataframe thead th {\n",
              "        text-align: right;\n",
              "    }\n",
              "</style>\n",
              "<table border=\"1\" class=\"dataframe\">\n",
              "  <thead>\n",
              "    <tr style=\"text-align: right;\">\n",
              "      <th></th>\n",
              "      <th>InvoiceNo</th>\n",
              "      <th>StockCode</th>\n",
              "      <th>Description</th>\n",
              "      <th>Quantity</th>\n",
              "      <th>InvoiceDate</th>\n",
              "      <th>UnitPrice</th>\n",
              "      <th>CustomerID</th>\n",
              "      <th>Country</th>\n",
              "    </tr>\n",
              "  </thead>\n",
              "  <tbody>\n",
              "    <tr>\n",
              "      <th>0</th>\n",
              "      <td>536365</td>\n",
              "      <td>85123A</td>\n",
              "      <td>WHITE HANGING HEART T-LIGHT HOLDER</td>\n",
              "      <td>6</td>\n",
              "      <td>2010-01-12 08:26:00</td>\n",
              "      <td>2.55</td>\n",
              "      <td>17850</td>\n",
              "      <td>United Kingdom</td>\n",
              "    </tr>\n",
              "    <tr>\n",
              "      <th>1</th>\n",
              "      <td>536365</td>\n",
              "      <td>71053</td>\n",
              "      <td>WHITE METAL LANTERN</td>\n",
              "      <td>6</td>\n",
              "      <td>2010-01-12 08:26:00</td>\n",
              "      <td>3.39</td>\n",
              "      <td>17850</td>\n",
              "      <td>United Kingdom</td>\n",
              "    </tr>\n",
              "    <tr>\n",
              "      <th>2</th>\n",
              "      <td>536365</td>\n",
              "      <td>84406B</td>\n",
              "      <td>CREAM CUPID HEARTS COAT HANGER</td>\n",
              "      <td>8</td>\n",
              "      <td>2010-01-12 08:26:00</td>\n",
              "      <td>2.75</td>\n",
              "      <td>17850</td>\n",
              "      <td>United Kingdom</td>\n",
              "    </tr>\n",
              "    <tr>\n",
              "      <th>3</th>\n",
              "      <td>536365</td>\n",
              "      <td>84029G</td>\n",
              "      <td>KNITTED UNION FLAG HOT WATER BOTTLE</td>\n",
              "      <td>6</td>\n",
              "      <td>2010-01-12 08:26:00</td>\n",
              "      <td>3.39</td>\n",
              "      <td>17850</td>\n",
              "      <td>United Kingdom</td>\n",
              "    </tr>\n",
              "    <tr>\n",
              "      <th>4</th>\n",
              "      <td>536365</td>\n",
              "      <td>84029E</td>\n",
              "      <td>RED WOOLLY HOTTIE WHITE HEART.</td>\n",
              "      <td>6</td>\n",
              "      <td>2010-01-12 08:26:00</td>\n",
              "      <td>3.39</td>\n",
              "      <td>17850</td>\n",
              "      <td>United Kingdom</td>\n",
              "    </tr>\n",
              "  </tbody>\n",
              "</table>\n",
              "</div>"
            ],
            "text/plain": [
              "  InvoiceNo StockCode  ... CustomerID         Country\n",
              "0    536365    85123A  ...      17850  United Kingdom\n",
              "1    536365     71053  ...      17850  United Kingdom\n",
              "2    536365    84406B  ...      17850  United Kingdom\n",
              "3    536365    84029G  ...      17850  United Kingdom\n",
              "4    536365    84029E  ...      17850  United Kingdom\n",
              "\n",
              "[5 rows x 8 columns]"
            ]
          },
          "metadata": {
            "tags": []
          },
          "execution_count": 31
        }
      ]
    },
    {
      "cell_type": "markdown",
      "metadata": {
        "id": "P_l-N-izTeBi"
      },
      "source": [
        "Berdasarkan informasi data, dapat dilihat bahwa tipe data sudah berubah sesuai yang diharapkan dan semua kolom memiliki ukuran yang sama."
      ]
    },
    {
      "cell_type": "markdown",
      "metadata": {
        "id": "e-6FjU5DYBFZ"
      },
      "source": [
        "## Melakukan Analisa\n",
        "\n",
        "ada 2 kategori data: non-metric dan metric\n",
        "\n",
        "1. data non-metric: bukan bersifat numerik, non-metric bersifat kategorikal.\n",
        "2. data metric: data yang numerik, yang dapat di aggregasi (rata-rata, standar deviasi, varian)\n",
        "\n",
        "Sebelum memulai analisa, harus dipisahkan terlebih dahulu diantara mana data yang non-metric maupun metric"
      ]
    },
    {
      "cell_type": "markdown",
      "metadata": {
        "id": "ZOtkOFKMYHLo"
      },
      "source": [
        "### Apa saja variabel yang termasuk dalam non-metric?\n",
        "ciri dtype bersifat object. tipe data object."
      ]
    },
    {
      "cell_type": "code",
      "metadata": {
        "colab": {
          "base_uri": "https://localhost:8080/",
          "height": 203
        },
        "id": "_cjDWsCKTTRw",
        "outputId": "df14238c-d66c-4b74-f42b-b67f652ea888"
      },
      "source": [
        "# Menampilkan kolom/variabel dengan tipe data non-metric atau string\n",
        "non_metric = list(df.select_dtypes(include=['object']).columns)\n",
        "df[non_metric].head()"
      ],
      "execution_count": null,
      "outputs": [
        {
          "output_type": "execute_result",
          "data": {
            "text/html": [
              "<div>\n",
              "<style scoped>\n",
              "    .dataframe tbody tr th:only-of-type {\n",
              "        vertical-align: middle;\n",
              "    }\n",
              "\n",
              "    .dataframe tbody tr th {\n",
              "        vertical-align: top;\n",
              "    }\n",
              "\n",
              "    .dataframe thead th {\n",
              "        text-align: right;\n",
              "    }\n",
              "</style>\n",
              "<table border=\"1\" class=\"dataframe\">\n",
              "  <thead>\n",
              "    <tr style=\"text-align: right;\">\n",
              "      <th></th>\n",
              "      <th>InvoiceNo</th>\n",
              "      <th>StockCode</th>\n",
              "      <th>Description</th>\n",
              "      <th>CustomerID</th>\n",
              "      <th>Country</th>\n",
              "    </tr>\n",
              "  </thead>\n",
              "  <tbody>\n",
              "    <tr>\n",
              "      <th>0</th>\n",
              "      <td>536365</td>\n",
              "      <td>85123A</td>\n",
              "      <td>WHITE HANGING HEART T-LIGHT HOLDER</td>\n",
              "      <td>17850</td>\n",
              "      <td>United Kingdom</td>\n",
              "    </tr>\n",
              "    <tr>\n",
              "      <th>1</th>\n",
              "      <td>536365</td>\n",
              "      <td>71053</td>\n",
              "      <td>WHITE METAL LANTERN</td>\n",
              "      <td>17850</td>\n",
              "      <td>United Kingdom</td>\n",
              "    </tr>\n",
              "    <tr>\n",
              "      <th>2</th>\n",
              "      <td>536365</td>\n",
              "      <td>84406B</td>\n",
              "      <td>CREAM CUPID HEARTS COAT HANGER</td>\n",
              "      <td>17850</td>\n",
              "      <td>United Kingdom</td>\n",
              "    </tr>\n",
              "    <tr>\n",
              "      <th>3</th>\n",
              "      <td>536365</td>\n",
              "      <td>84029G</td>\n",
              "      <td>KNITTED UNION FLAG HOT WATER BOTTLE</td>\n",
              "      <td>17850</td>\n",
              "      <td>United Kingdom</td>\n",
              "    </tr>\n",
              "    <tr>\n",
              "      <th>4</th>\n",
              "      <td>536365</td>\n",
              "      <td>84029E</td>\n",
              "      <td>RED WOOLLY HOTTIE WHITE HEART.</td>\n",
              "      <td>17850</td>\n",
              "      <td>United Kingdom</td>\n",
              "    </tr>\n",
              "  </tbody>\n",
              "</table>\n",
              "</div>"
            ],
            "text/plain": [
              "  InvoiceNo StockCode  ... CustomerID         Country\n",
              "0    536365    85123A  ...      17850  United Kingdom\n",
              "1    536365     71053  ...      17850  United Kingdom\n",
              "2    536365    84406B  ...      17850  United Kingdom\n",
              "3    536365    84029G  ...      17850  United Kingdom\n",
              "4    536365    84029E  ...      17850  United Kingdom\n",
              "\n",
              "[5 rows x 5 columns]"
            ]
          },
          "metadata": {
            "tags": []
          },
          "execution_count": 32
        }
      ]
    },
    {
      "cell_type": "markdown",
      "metadata": {
        "id": "vYZYLlxGakLh"
      },
      "source": [
        "#### Berapakah jumlah nilai yang unik pada setiap variabel?\n",
        "\n",
        "mencari sebuah informasi secara individu, berapa jumlah yang unik pada setiap variabelnya"
      ]
    },
    {
      "cell_type": "code",
      "metadata": {
        "colab": {
          "base_uri": "https://localhost:8080/",
          "height": 111
        },
        "id": "wZmgi8DNaf0Q",
        "outputId": "908cae9b-6047-4e43-87ec-c038f20b5e97"
      },
      "source": [
        "df[non_metric].agg(['nunique','count'])"
      ],
      "execution_count": null,
      "outputs": [
        {
          "output_type": "execute_result",
          "data": {
            "text/html": [
              "<div>\n",
              "<style scoped>\n",
              "    .dataframe tbody tr th:only-of-type {\n",
              "        vertical-align: middle;\n",
              "    }\n",
              "\n",
              "    .dataframe tbody tr th {\n",
              "        vertical-align: top;\n",
              "    }\n",
              "\n",
              "    .dataframe thead th {\n",
              "        text-align: right;\n",
              "    }\n",
              "</style>\n",
              "<table border=\"1\" class=\"dataframe\">\n",
              "  <thead>\n",
              "    <tr style=\"text-align: right;\">\n",
              "      <th></th>\n",
              "      <th>InvoiceNo</th>\n",
              "      <th>StockCode</th>\n",
              "      <th>Description</th>\n",
              "      <th>CustomerID</th>\n",
              "      <th>Country</th>\n",
              "    </tr>\n",
              "  </thead>\n",
              "  <tbody>\n",
              "    <tr>\n",
              "      <th>nunique</th>\n",
              "      <td>22190</td>\n",
              "      <td>3684</td>\n",
              "      <td>3896</td>\n",
              "      <td>4372</td>\n",
              "      <td>37</td>\n",
              "    </tr>\n",
              "    <tr>\n",
              "      <th>count</th>\n",
              "      <td>401604</td>\n",
              "      <td>401604</td>\n",
              "      <td>401604</td>\n",
              "      <td>401604</td>\n",
              "      <td>401604</td>\n",
              "    </tr>\n",
              "  </tbody>\n",
              "</table>\n",
              "</div>"
            ],
            "text/plain": [
              "         InvoiceNo  StockCode  Description  CustomerID  Country\n",
              "nunique      22190       3684         3896        4372       37\n",
              "count       401604     401604       401604      401604   401604"
            ]
          },
          "metadata": {
            "tags": []
          },
          "execution_count": 33
        }
      ]
    },
    {
      "cell_type": "markdown",
      "metadata": {
        "id": "j-LkTkfObN48"
      },
      "source": [
        "Index nunique menunjukkan nilai unique dan tiap tiap kolom, sedangkan count menunjukkan total keseluruhan data dalam kolom"
      ]
    },
    {
      "cell_type": "markdown",
      "metadata": {
        "id": "wP7P7VWkb-FA"
      },
      "source": [
        "#### Informasi apa yang paling banyak muncul dari setiap variabel secara keseluruhan?\n",
        "gunakan fungsi statistik modus"
      ]
    },
    {
      "cell_type": "code",
      "metadata": {
        "colab": {
          "base_uri": "https://localhost:8080/",
          "height": 80
        },
        "id": "WcJ5pnoda-bL",
        "outputId": "f458db34-40aa-4c54-97f2-a6c99e199047"
      },
      "source": [
        "# Mencari modus dari data non-metric\n",
        "df[non_metric].mode()"
      ],
      "execution_count": null,
      "outputs": [
        {
          "output_type": "execute_result",
          "data": {
            "text/html": [
              "<div>\n",
              "<style scoped>\n",
              "    .dataframe tbody tr th:only-of-type {\n",
              "        vertical-align: middle;\n",
              "    }\n",
              "\n",
              "    .dataframe tbody tr th {\n",
              "        vertical-align: top;\n",
              "    }\n",
              "\n",
              "    .dataframe thead th {\n",
              "        text-align: right;\n",
              "    }\n",
              "</style>\n",
              "<table border=\"1\" class=\"dataframe\">\n",
              "  <thead>\n",
              "    <tr style=\"text-align: right;\">\n",
              "      <th></th>\n",
              "      <th>InvoiceNo</th>\n",
              "      <th>StockCode</th>\n",
              "      <th>Description</th>\n",
              "      <th>CustomerID</th>\n",
              "      <th>Country</th>\n",
              "    </tr>\n",
              "  </thead>\n",
              "  <tbody>\n",
              "    <tr>\n",
              "      <th>0</th>\n",
              "      <td>576339</td>\n",
              "      <td>85123A</td>\n",
              "      <td>WHITE HANGING HEART T-LIGHT HOLDER</td>\n",
              "      <td>17841</td>\n",
              "      <td>United Kingdom</td>\n",
              "    </tr>\n",
              "  </tbody>\n",
              "</table>\n",
              "</div>"
            ],
            "text/plain": [
              "  InvoiceNo StockCode  ... CustomerID         Country\n",
              "0    576339    85123A  ...      17841  United Kingdom\n",
              "\n",
              "[1 rows x 5 columns]"
            ]
          },
          "metadata": {
            "tags": []
          },
          "execution_count": 34
        }
      ]
    },
    {
      "cell_type": "markdown",
      "metadata": {
        "id": "n1GgkOHpbdEg"
      },
      "source": [
        "#### Informasi apa yang paling banyak muncul dan berapakah jumlah nilai yang unik dari setiap variabel pada setiap negara?"
      ]
    },
    {
      "cell_type": "code",
      "metadata": {
        "colab": {
          "base_uri": "https://localhost:8080/",
          "height": 450
        },
        "id": "whvf567Gb3Vu",
        "outputId": "558cdc0e-5ec4-4fb8-b54c-84b1500ba099"
      },
      "source": [
        "# Membuat analisa berdasarkan country dan mencari tahu informasi negara dari unique value, total data, dan modus pada setiap variabel\n",
        "df[non_metric].groupby('Country').agg(['nunique','count',pd.Series.mode]).stack()"
      ],
      "execution_count": null,
      "outputs": [
        {
          "output_type": "execute_result",
          "data": {
            "text/html": [
              "<div>\n",
              "<style scoped>\n",
              "    .dataframe tbody tr th:only-of-type {\n",
              "        vertical-align: middle;\n",
              "    }\n",
              "\n",
              "    .dataframe tbody tr th {\n",
              "        vertical-align: top;\n",
              "    }\n",
              "\n",
              "    .dataframe thead th {\n",
              "        text-align: right;\n",
              "    }\n",
              "</style>\n",
              "<table border=\"1\" class=\"dataframe\">\n",
              "  <thead>\n",
              "    <tr style=\"text-align: right;\">\n",
              "      <th></th>\n",
              "      <th></th>\n",
              "      <th>InvoiceNo</th>\n",
              "      <th>StockCode</th>\n",
              "      <th>Description</th>\n",
              "      <th>CustomerID</th>\n",
              "    </tr>\n",
              "    <tr>\n",
              "      <th>Country</th>\n",
              "      <th></th>\n",
              "      <th></th>\n",
              "      <th></th>\n",
              "      <th></th>\n",
              "      <th></th>\n",
              "    </tr>\n",
              "  </thead>\n",
              "  <tbody>\n",
              "    <tr>\n",
              "      <th rowspan=\"3\" valign=\"top\">Australia</th>\n",
              "      <th>nunique</th>\n",
              "      <td>69</td>\n",
              "      <td>600</td>\n",
              "      <td>609</td>\n",
              "      <td>9</td>\n",
              "    </tr>\n",
              "    <tr>\n",
              "      <th>count</th>\n",
              "      <td>1258</td>\n",
              "      <td>1258</td>\n",
              "      <td>1258</td>\n",
              "      <td>1258</td>\n",
              "    </tr>\n",
              "    <tr>\n",
              "      <th>mode</th>\n",
              "      <td>556917</td>\n",
              "      <td>22720</td>\n",
              "      <td>SET OF 3 CAKE TINS PANTRY DESIGN</td>\n",
              "      <td>12415</td>\n",
              "    </tr>\n",
              "    <tr>\n",
              "      <th rowspan=\"2\" valign=\"top\">Austria</th>\n",
              "      <th>nunique</th>\n",
              "      <td>19</td>\n",
              "      <td>307</td>\n",
              "      <td>307</td>\n",
              "      <td>11</td>\n",
              "    </tr>\n",
              "    <tr>\n",
              "      <th>count</th>\n",
              "      <td>401</td>\n",
              "      <td>401</td>\n",
              "      <td>401</td>\n",
              "      <td>401</td>\n",
              "    </tr>\n",
              "    <tr>\n",
              "      <th>...</th>\n",
              "      <th>...</th>\n",
              "      <td>...</td>\n",
              "      <td>...</td>\n",
              "      <td>...</td>\n",
              "      <td>...</td>\n",
              "    </tr>\n",
              "    <tr>\n",
              "      <th rowspan=\"2\" valign=\"top\">United Kingdom</th>\n",
              "      <th>count</th>\n",
              "      <td>356728</td>\n",
              "      <td>356728</td>\n",
              "      <td>356728</td>\n",
              "      <td>356728</td>\n",
              "    </tr>\n",
              "    <tr>\n",
              "      <th>mode</th>\n",
              "      <td>576339</td>\n",
              "      <td>85123A</td>\n",
              "      <td>WHITE HANGING HEART T-LIGHT HOLDER</td>\n",
              "      <td>17841</td>\n",
              "    </tr>\n",
              "    <tr>\n",
              "      <th rowspan=\"3\" valign=\"top\">Unspecified</th>\n",
              "      <th>nunique</th>\n",
              "      <td>8</td>\n",
              "      <td>213</td>\n",
              "      <td>213</td>\n",
              "      <td>4</td>\n",
              "    </tr>\n",
              "    <tr>\n",
              "      <th>count</th>\n",
              "      <td>241</td>\n",
              "      <td>241</td>\n",
              "      <td>241</td>\n",
              "      <td>241</td>\n",
              "    </tr>\n",
              "    <tr>\n",
              "      <th>mode</th>\n",
              "      <td>561658</td>\n",
              "      <td>[23108, 84879]</td>\n",
              "      <td>[ASSORTED COLOUR BIRD ORNAMENT, SET OF 10 LED ...</td>\n",
              "      <td>12743</td>\n",
              "    </tr>\n",
              "  </tbody>\n",
              "</table>\n",
              "<p>111 rows × 4 columns</p>\n",
              "</div>"
            ],
            "text/plain": [
              "                       InvoiceNo  ... CustomerID\n",
              "Country                           ...           \n",
              "Australia      nunique        69  ...          9\n",
              "               count        1258  ...       1258\n",
              "               mode       556917  ...      12415\n",
              "Austria        nunique        19  ...         11\n",
              "               count         401  ...        401\n",
              "...                          ...  ...        ...\n",
              "United Kingdom count      356728  ...     356728\n",
              "               mode       576339  ...      17841\n",
              "Unspecified    nunique         8  ...          4\n",
              "               count         241  ...        241\n",
              "               mode       561658  ...      12743\n",
              "\n",
              "[111 rows x 4 columns]"
            ]
          },
          "metadata": {
            "tags": []
          },
          "execution_count": 38
        }
      ]
    },
    {
      "cell_type": "markdown",
      "metadata": {
        "id": "vV25CyGXdMaJ"
      },
      "source": [
        "Analisa yang didapat: jadi disetiap negara, kita bisa mengetahui transaksinya ada berapa aja, kode transaksi mana yang paling banyak isi produknya, kode stock, deskripsi product, dll."
      ]
    },
    {
      "cell_type": "markdown",
      "metadata": {
        "id": "m0hhuG8Gez6F"
      },
      "source": [
        "### Bagaimana dengan data metric?\n",
        "data metric dapat di aggregasi, seperti data Quantity dan UnitPrice"
      ]
    },
    {
      "cell_type": "markdown",
      "metadata": {
        "id": "1hp9ujS2e6_-"
      },
      "source": [
        "#### Berapa rata-rata, nilai minimum, nilai maksimum kuantitas barang yang terjual dan harganya?"
      ]
    },
    {
      "cell_type": "code",
      "metadata": {
        "colab": {
          "base_uri": "https://localhost:8080/",
          "height": 297
        },
        "id": "9Ni2F_VOezFT",
        "outputId": "7d23dba6-b5bb-49db-dbde-7febf9ee59ba"
      },
      "source": [
        "# Melihat summary dari data yang telah di cleaning\n",
        "df.describe()"
      ],
      "execution_count": null,
      "outputs": [
        {
          "output_type": "execute_result",
          "data": {
            "text/html": [
              "<div>\n",
              "<style scoped>\n",
              "    .dataframe tbody tr th:only-of-type {\n",
              "        vertical-align: middle;\n",
              "    }\n",
              "\n",
              "    .dataframe tbody tr th {\n",
              "        vertical-align: top;\n",
              "    }\n",
              "\n",
              "    .dataframe thead th {\n",
              "        text-align: right;\n",
              "    }\n",
              "</style>\n",
              "<table border=\"1\" class=\"dataframe\">\n",
              "  <thead>\n",
              "    <tr style=\"text-align: right;\">\n",
              "      <th></th>\n",
              "      <th>Quantity</th>\n",
              "      <th>UnitPrice</th>\n",
              "    </tr>\n",
              "  </thead>\n",
              "  <tbody>\n",
              "    <tr>\n",
              "      <th>count</th>\n",
              "      <td>401604.000000</td>\n",
              "      <td>401604.000000</td>\n",
              "    </tr>\n",
              "    <tr>\n",
              "      <th>mean</th>\n",
              "      <td>12.183273</td>\n",
              "      <td>3.474064</td>\n",
              "    </tr>\n",
              "    <tr>\n",
              "      <th>std</th>\n",
              "      <td>250.283037</td>\n",
              "      <td>69.764035</td>\n",
              "    </tr>\n",
              "    <tr>\n",
              "      <th>min</th>\n",
              "      <td>-80995.000000</td>\n",
              "      <td>0.000000</td>\n",
              "    </tr>\n",
              "    <tr>\n",
              "      <th>25%</th>\n",
              "      <td>2.000000</td>\n",
              "      <td>1.250000</td>\n",
              "    </tr>\n",
              "    <tr>\n",
              "      <th>50%</th>\n",
              "      <td>5.000000</td>\n",
              "      <td>1.950000</td>\n",
              "    </tr>\n",
              "    <tr>\n",
              "      <th>75%</th>\n",
              "      <td>12.000000</td>\n",
              "      <td>3.750000</td>\n",
              "    </tr>\n",
              "    <tr>\n",
              "      <th>max</th>\n",
              "      <td>80995.000000</td>\n",
              "      <td>38970.000000</td>\n",
              "    </tr>\n",
              "  </tbody>\n",
              "</table>\n",
              "</div>"
            ],
            "text/plain": [
              "            Quantity      UnitPrice\n",
              "count  401604.000000  401604.000000\n",
              "mean       12.183273       3.474064\n",
              "std       250.283037      69.764035\n",
              "min    -80995.000000       0.000000\n",
              "25%         2.000000       1.250000\n",
              "50%         5.000000       1.950000\n",
              "75%        12.000000       3.750000\n",
              "max     80995.000000   38970.000000"
            ]
          },
          "metadata": {
            "tags": []
          },
          "execution_count": 39
        }
      ]
    },
    {
      "cell_type": "markdown",
      "metadata": {
        "id": "kkB11-y7fXDw"
      },
      "source": [
        "fungsi describe digunakan untuk menghitung statistik deskriptif dari 2 kolom tersebut.\n",
        "\n",
        "Analisa yang didapat:\n",
        "* pada perhitungan \"min\" ada beberapa kejanggalan dikarenakan apabila nilai quantity negative karena kemungkinan\n",
        "1. merupakan kuantitas yang ditolak atau dicancel. Jika positive item yang dijual tercatat, tetapi jika negative karna dicancel jadi balik lagi ke gudang, disitu tidak ada statusnya, biasanya cancel atau tidak nya ada di statusnya bukan Quantity nya negative.\n",
        "2. kemungkinan kesalahan dari sistem, sistem logistic FIFO yang First In First Out. Ada kode stock nya, misal kode stock A masuk dulu di gudang menggunakan sistem FIFO, otomatis A dikeluarkan lebih dahulu kalau ada pembelian. Misal kode A 10 item/barang, sedangkan yang dibeli 20 item. harusnya yang sisanya sudah mengalihkan ke stok berikutnya, nah misalnya ada restock itu kode B, nah 10 nya itu dia ambilnya di kode B.\n",
        "* Nah kesalahan perhitungan dari sistem hal tersebut masih dianggap kode stock A, oleh karna itu sampai negative.\n",
        "* Harusnya secara logic tidak boleh, ketika yang diminta pembeli lebih besar dari nilai yang ada di kode stok itu nah harusnya dia langsung di agregasi 0 kan, sisanya itu ambil dari kode stock sesudahnya (urutan ke-2). kesalahan tersebut tidak di kosongkan, jadi nilainya berkurang jadi negative.\n",
        "\n",
        "* UnitPrice yang 0 biasanya barang gratis, barang gratis itu dianggap tetap keluar dalam logistic dan sistem, tetapi nilai harganya itu 0 karena barang itu gratis. UnitPrice bernilai 0 tidak masalah karna barang gratisan dan dikeluarkan\n",
        "\n",
        "tantangan bagi data analyst menangani Quantity bernilai negative mau dihapus atau tetap? harus dikulik sangat dalam, jika ada data atau perhitungan yang salah berarti harus dibenerin sistemnya, diulang urutan FIFOnya agar data yang masuk stock tidak bernilai negative harusnya misalkan 0. Harus diulik kode stock itu apa dan sisa stock di kode stock itu berapa.\n",
        "\n"
      ]
    },
    {
      "cell_type": "markdown",
      "metadata": {
        "id": "Yr_sD_YQk0Vt"
      },
      "source": [
        "### Menambah Variabel Baru\n",
        "Dalam menganalisa data terkadang kita dapat menemukan informasi tambahan dari data yang kita miliki. Misalnya terkadang kita tidak mengetahui usia dari user, yang kita hanya miliki tanggal lahir dari user. Oleh karena itu diperlukan variabel/kolom tambahan untuk mengidentifikasi usia dari user tersebut dengan memanfaatkan data yang kita miliki saat ini. Langkah seperti ini juga akan dilakukan pada step ini, yaitu menambah variabel baru berupa keterangan waktu untuk memudahkan analisa kedepannya.\n",
        "\n",
        "* berguna untuk menambah kolom tanggal, bulan, tahun, siapa tahu ingin dilakukan aggregasi untuk data penjualan tiap hari/tiap bulan/tiap tahun\n",
        "* cara ini opsional untuk mempermudahkan"
      ]
    },
    {
      "cell_type": "code",
      "metadata": {
        "colab": {
          "base_uri": "https://localhost:8080/"
        },
        "id": "OzCvGbDWcveT",
        "outputId": "bb14def7-1566-43d5-8285-4b340e559e52"
      },
      "source": [
        "# Menambahkan kolom baru\n",
        "df['year'], df['month'], df['day'] =  df['InvoiceDate'].dt.year, df['InvoiceDate'].dt.month, df['InvoiceDate'].dt.day"
      ],
      "execution_count": null,
      "outputs": [
        {
          "output_type": "stream",
          "text": [
            "/usr/local/lib/python3.7/dist-packages/ipykernel_launcher.py:2: SettingWithCopyWarning: \n",
            "A value is trying to be set on a copy of a slice from a DataFrame.\n",
            "Try using .loc[row_indexer,col_indexer] = value instead\n",
            "\n",
            "See the caveats in the documentation: https://pandas.pydata.org/pandas-docs/stable/user_guide/indexing.html#returning-a-view-versus-a-copy\n",
            "  \n"
          ],
          "name": "stderr"
        }
      ]
    },
    {
      "cell_type": "code",
      "metadata": {
        "colab": {
          "base_uri": "https://localhost:8080/",
          "height": 410
        },
        "id": "lO8dAnJumauy",
        "outputId": "93ac4951-289f-4410-81ca-a4dbd12760c1"
      },
      "source": [
        "df.tail()"
      ],
      "execution_count": null,
      "outputs": [
        {
          "output_type": "execute_result",
          "data": {
            "text/html": [
              "<div>\n",
              "<style scoped>\n",
              "    .dataframe tbody tr th:only-of-type {\n",
              "        vertical-align: middle;\n",
              "    }\n",
              "\n",
              "    .dataframe tbody tr th {\n",
              "        vertical-align: top;\n",
              "    }\n",
              "\n",
              "    .dataframe thead th {\n",
              "        text-align: right;\n",
              "    }\n",
              "</style>\n",
              "<table border=\"1\" class=\"dataframe\">\n",
              "  <thead>\n",
              "    <tr style=\"text-align: right;\">\n",
              "      <th></th>\n",
              "      <th>InvoiceNo</th>\n",
              "      <th>StockCode</th>\n",
              "      <th>Description</th>\n",
              "      <th>Quantity</th>\n",
              "      <th>InvoiceDate</th>\n",
              "      <th>UnitPrice</th>\n",
              "      <th>CustomerID</th>\n",
              "      <th>Country</th>\n",
              "      <th>year</th>\n",
              "      <th>month</th>\n",
              "      <th>day</th>\n",
              "    </tr>\n",
              "  </thead>\n",
              "  <tbody>\n",
              "    <tr>\n",
              "      <th>541904</th>\n",
              "      <td>581587</td>\n",
              "      <td>22613</td>\n",
              "      <td>PACK OF 20 SPACEBOY NAPKINS</td>\n",
              "      <td>12</td>\n",
              "      <td>2011-09-12 12:50:00</td>\n",
              "      <td>0.85</td>\n",
              "      <td>12680</td>\n",
              "      <td>France</td>\n",
              "      <td>2011</td>\n",
              "      <td>9</td>\n",
              "      <td>12</td>\n",
              "    </tr>\n",
              "    <tr>\n",
              "      <th>541905</th>\n",
              "      <td>581587</td>\n",
              "      <td>22899</td>\n",
              "      <td>CHILDREN'S APRON DOLLY GIRL</td>\n",
              "      <td>6</td>\n",
              "      <td>2011-09-12 12:50:00</td>\n",
              "      <td>2.10</td>\n",
              "      <td>12680</td>\n",
              "      <td>France</td>\n",
              "      <td>2011</td>\n",
              "      <td>9</td>\n",
              "      <td>12</td>\n",
              "    </tr>\n",
              "    <tr>\n",
              "      <th>541906</th>\n",
              "      <td>581587</td>\n",
              "      <td>23254</td>\n",
              "      <td>CHILDRENS CUTLERY DOLLY GIRL</td>\n",
              "      <td>4</td>\n",
              "      <td>2011-09-12 12:50:00</td>\n",
              "      <td>4.15</td>\n",
              "      <td>12680</td>\n",
              "      <td>France</td>\n",
              "      <td>2011</td>\n",
              "      <td>9</td>\n",
              "      <td>12</td>\n",
              "    </tr>\n",
              "    <tr>\n",
              "      <th>541907</th>\n",
              "      <td>581587</td>\n",
              "      <td>23255</td>\n",
              "      <td>CHILDRENS CUTLERY CIRCUS PARADE</td>\n",
              "      <td>4</td>\n",
              "      <td>2011-09-12 12:50:00</td>\n",
              "      <td>4.15</td>\n",
              "      <td>12680</td>\n",
              "      <td>France</td>\n",
              "      <td>2011</td>\n",
              "      <td>9</td>\n",
              "      <td>12</td>\n",
              "    </tr>\n",
              "    <tr>\n",
              "      <th>541908</th>\n",
              "      <td>581587</td>\n",
              "      <td>22138</td>\n",
              "      <td>BAKING SET 9 PIECE RETROSPOT</td>\n",
              "      <td>3</td>\n",
              "      <td>2011-09-12 12:50:00</td>\n",
              "      <td>4.95</td>\n",
              "      <td>12680</td>\n",
              "      <td>France</td>\n",
              "      <td>2011</td>\n",
              "      <td>9</td>\n",
              "      <td>12</td>\n",
              "    </tr>\n",
              "  </tbody>\n",
              "</table>\n",
              "</div>"
            ],
            "text/plain": [
              "       InvoiceNo StockCode                      Description  ...  year month  day\n",
              "541904    581587     22613      PACK OF 20 SPACEBOY NAPKINS  ...  2011     9   12\n",
              "541905    581587     22899     CHILDREN'S APRON DOLLY GIRL   ...  2011     9   12\n",
              "541906    581587     23254    CHILDRENS CUTLERY DOLLY GIRL   ...  2011     9   12\n",
              "541907    581587     23255  CHILDRENS CUTLERY CIRCUS PARADE  ...  2011     9   12\n",
              "541908    581587     22138    BAKING SET 9 PIECE RETROSPOT   ...  2011     9   12\n",
              "\n",
              "[5 rows x 11 columns]"
            ]
          },
          "metadata": {
            "tags": []
          },
          "execution_count": 41
        }
      ]
    },
    {
      "cell_type": "code",
      "metadata": {
        "colab": {
          "base_uri": "https://localhost:8080/"
        },
        "id": "UffOIdUqmsjc",
        "outputId": "b380cdab-266d-4831-bbf3-a52568e298e5"
      },
      "source": [
        "df.shape"
      ],
      "execution_count": null,
      "outputs": [
        {
          "output_type": "execute_result",
          "data": {
            "text/plain": [
              "(401604, 11)"
            ]
          },
          "metadata": {
            "tags": []
          },
          "execution_count": 42
        }
      ]
    },
    {
      "cell_type": "markdown",
      "metadata": {
        "id": "b0QG-N4Mm1Jn"
      },
      "source": [
        "## Exporting Data\n",
        "\n",
        "Menyimpan data hasil pre-processing"
      ]
    },
    {
      "cell_type": "code",
      "metadata": {
        "id": "DLD5ZZgUmcXb"
      },
      "source": [
        "# Export data ke dalam format csv\n",
        "df.to_csv(path + 'Clean_OnlineRetail.csv', index=None) # keterangan index dalam data ini tidak akan di simpan"
      ],
      "execution_count": null,
      "outputs": []
    },
    {
      "cell_type": "code",
      "metadata": {
        "id": "0q1r9wfjnLqb"
      },
      "source": [
        "# Export data ke dalam format excel\n",
        "df.to_excel(path + 'Clean_OnlineRetail.xlsx', index=None)"
      ],
      "execution_count": 46,
      "outputs": []
    },
    {
      "cell_type": "markdown",
      "metadata": {
        "id": "Rvn3A8osuMvP"
      },
      "source": [
        "ada pertama kode A dan kedua kode B sistem FIFO berlaku agar mengeluarkan data pada kode A yang pertama masuk, antisipasi data tersebut kadaluarsa atau sudah lama digudang, kemudian jika barang dari stock A sudah habis baru diambil dari stock kode B/stock selanjutnya/stock urutan kedua yang ada di gudang. FIFO: apa yang pertama kali masuk, itu juga yang pertama kali keluar."
      ]
    },
    {
      "cell_type": "code",
      "metadata": {
        "id": "oSEbF_AAnYsj"
      },
      "source": [
        ""
      ],
      "execution_count": null,
      "outputs": []
    }
  ]
}